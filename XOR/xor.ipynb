{
 "cells": [
  {
   "cell_type": "markdown",
   "metadata": {},
   "source": [
    "# Example of XOR gate using an MLP and MLP class\n",
    "\n",
    "## Author: Ithallo Junior Alves Guimarães\n",
    "\n",
    "### Apr/2018\n",
    "\n",
    "#####  Reference:     <http://iamtrask.github.io/2015/07/12/basic-python-network/>\n",
    " "
   ]
  },
  {
   "cell_type": "code",
   "execution_count": 1,
   "metadata": {
    "collapsed": true
   },
   "outputs": [],
   "source": [
    "import numpy as np\n",
    "import datetime"
   ]
  },
  {
   "cell_type": "code",
   "execution_count": 2,
   "metadata": {
    "collapsed": false
   },
   "outputs": [],
   "source": [
    "class mlp():\n",
    "    def __init__(self, hidden_layer_size=3, activation=\"tanh\", alpha=0.1, max_iter=1000, bias=True,  \n",
    "                 tol=1e-3, seed=None, keep_error_list=True, warm_start=False, coefs=None):\n",
    "        self.hidden_layer_size = hidden_layer_size\n",
    "        self.activation = activation\n",
    "        self.alpha = alpha\n",
    "        self.max_iter = max_iter\n",
    "        self.bias = bias\n",
    "        self.tol = tol\n",
    "        self.seed = seed\n",
    "        self.keep_error_list = keep_error_list\n",
    "        self.error_list = []\n",
    "        self.warm_start = warm_start\n",
    "        self.coefs = coefs\n",
    "        self.error = 0\n",
    "        self.X = np.array([[0, 0],[0, 1], [1, 0], [1, 1]])\n",
    "        self.y = np.array([0, 1, 1, 0])\n",
    "\n",
    "    # activaton function\n",
    "    def _function(self, X, deriv=False):\n",
    "        if self.activation==\"tanh\":\n",
    "            if(deriv==True):\n",
    "                return 1. - np.square(np.tanh(X))\n",
    "            else: return np.tanh(X)\n",
    "        \n",
    "        elif self.activation==\"sigmoid\":\n",
    "            if(deriv==True):\n",
    "                out = self._function(X)\n",
    "                return out * (1. - out ) \n",
    "            else:  return 1./(1+np.exp( -X ))\n",
    "        \n",
    "        elif self.activation==\"linear\":\n",
    "            if(deriv==True):\n",
    "                return 1.\n",
    "            else:\n",
    "                return X\n",
    "        elif self.activation==\"softplus\":\n",
    "            if(deriv==True):\n",
    "                return  1./(1+np.exp( -X ))\n",
    "            else:\n",
    "                return  np.log(1 + np.exp(X))\n",
    "\n",
    "        \n",
    "    \n",
    "    # corrects the  shape of y\n",
    "    def _y_shape_corrector(self, y):\n",
    "            if type(y) == list:\n",
    "                    self._y_shape_corrector(np.array(y))\n",
    "            else:\n",
    "                if len(y.shape)==1:\n",
    "                    return y.reshape(-1,1)\n",
    "                else:\n",
    "                    return y\n",
    "    \n",
    "    # creates the internal structure of the network\n",
    "    def _network_constructor(self, X_, y_):\n",
    "        \n",
    "        #checks if there is a warm start\n",
    "        if self.warm_start and (self.coefs != None):\n",
    "            self.coefs = coefs\n",
    "        else:\n",
    "            \n",
    "            # inicialize with a deterministic seed is a good practice\n",
    "            np.random.seed(self.seed)\n",
    "            \n",
    "            #bias\n",
    "            if self.bias:\n",
    "                l0 = X_.shape[-1] + 1\n",
    "            else:\n",
    "                l0 = X_.shape[-1]\n",
    "                \n",
    "            #cosntructing layers with weights randomly with mean 0\n",
    "            hidden_layers = 2*np.random.random((l0, self.hidden_layer_size)) - 1.\n",
    "            output_layer = 2*np.random.random((self.hidden_layer_size, y_.shape[-1])) - 1.\n",
    " \n",
    "            self.coefs = [hidden_layers, output_layer]\n",
    "    # run\n",
    "    def fit(self, X, y):\n",
    "        \n",
    "        #cleaning error list \n",
    "        self.error_list = []\n",
    "        \n",
    "        #correcting the shape of y and adding bias to X\n",
    "        y = self._y_shape_corrector(y)\n",
    "        \n",
    "        #calling the constructor, must be after shape correction\n",
    "        self._network_constructor(X, y)\n",
    "        #print self.coefs\n",
    "        \n",
    "        #bias in the network, if needed and creating the layer 0\n",
    "        if self.bias:\n",
    "            layer0 = np.hstack((X, np.ones((X.shape[0], 1))))\n",
    "        else:\n",
    "            layer0 = X\n",
    "       \n",
    "        st = datetime.datetime.now()\n",
    "        print \"Starting MLP at:\", st\n",
    "        for i in xrange(self.max_iter):\n",
    "            \n",
    "            #training\n",
    "            self._train(layer0, y)\n",
    "            \n",
    "            #error list, if any\n",
    "            if self.keep_error_list:\n",
    "                self.error_list.append(self.error)\n",
    "            \n",
    "            # stopping by error\n",
    "            if self.error < self.tol:\n",
    "                print \"Stopping by error at\", i\n",
    "                break\n",
    "            \n",
    "        ed = datetime.datetime.now()\n",
    "        print \"Finishing MLP training at:\", ed\n",
    "        print \"Final error:\", self.error\n",
    "        print \"It took %s\"%(ed - st) \n",
    "        \n",
    "    #trains, already receives the layer0, later maybe will add more training functions\n",
    "    def _train(self, layer0, y):\n",
    "        #backprogation\n",
    "        \n",
    "        #calculating first layer\n",
    "        sum_layer1 = np.dot(layer0, self.coefs[0])\n",
    "        layer1 = self._function(sum_layer1)\n",
    "        #calculating for the hidden\n",
    "        sum_layer2 = np.dot(layer1, self.coefs[1])\n",
    "        layer2 = self._function(sum_layer2)\n",
    "\n",
    "        #error to the target value\n",
    "        l2_error =   y - layer2 \n",
    "        \n",
    "        #slope for hidden\n",
    "        l2_delta =  l2_error * self._function(sum_layer2, deriv=True)\n",
    "        \n",
    "        #contribuiton to the second from the first\n",
    "        l1_error = np.dot(l2_delta, self.coefs[1].T)\n",
    "        \n",
    "        # slope of the sigmoid at the values in layer 1\n",
    "        l1_delta =  l1_error * self._function(sum_layer1, deriv=True)\n",
    "    \n",
    "        \n",
    "        ##updating all weights and setting the error as mean squared error\n",
    "        self.coefs[1] = self.coefs[1] + self.alpha * np.dot(layer1.T, l2_delta)\n",
    "        self.coefs[0] = self.coefs[0] + self.alpha * np.dot(layer0.T, l1_delta)\n",
    "        self.error = 0.5 * np.square(l2_error).sum()\n",
    "    \n",
    "    #predicts output after fitting a model, supposes the coefs are known    \n",
    "    def predict(self, X):\n",
    "        \n",
    "        #bias in the network, if needed\n",
    "        if self.bias:\n",
    "            layer0 = np.hstack((X, np.ones((X.shape[0], 1))))\n",
    "        else:\n",
    "            layer0 = X\n",
    "        \n",
    "        layer1 = self._function(np.dot(layer0, self.coefs[0]))\n",
    "        \n",
    "        layer2 = self._function(np.dot(layer1, self.coefs[1]))      \n",
    "        \n",
    "        return layer2\n",
    "    \n",
    "    #calculates the score using 1 - mean square error\n",
    "    def score(self, X, y):     \n",
    "        #correcting the shape of y\n",
    "        y = self._y_shape_corrector(y)\n",
    "        y_ = self.predict(X)\n",
    "        se = 0.5 * np.square(y - y_).sum()\n",
    "        return float(1. - se)\n",
    "    \n",
    "    #Showing it working, example_run\n",
    "    def example_run(self, plot=True):\n",
    "        self.fit(self.X, self.y)\n",
    "        print\"Results:\\n\"\n",
    "        print \" X    y    Predicted\"\n",
    "        results = clf.predict(self.X)\n",
    "        for i in xrange(4):\n",
    "            print self.X[i],self.y[i], results[:,0][i]\n",
    "        print\"\\nscore: %.3f%%\"%(self.score(self.X,self.y)*100)\n",
    "        \n",
    "        if plot:\n",
    "            import matplotlib.pyplot as plt\n",
    "            plt.plot(self.error_list)\n",
    "            plt.title(\"Squared Error per generation\")\n",
    "            plt.xlabel(\"Generation\")\n",
    "            plt.ylabel(\"Squared Error\")\n",
    "            plt.show()"
   ]
  },
  {
   "cell_type": "markdown",
   "metadata": {},
   "source": [
    "## Examples\n"
   ]
  },
  {
   "cell_type": "markdown",
   "metadata": {},
   "source": [
    "#### Using sigmoid"
   ]
  },
  {
   "cell_type": "code",
   "execution_count": 3,
   "metadata": {
    "collapsed": false
   },
   "outputs": [
    {
     "name": "stdout",
     "output_type": "stream",
     "text": [
      "Starting MLP at: 2018-05-07 13:45:17.274252\n",
      "Finishing MLP training at: 2018-05-07 13:45:17.742977\n",
      "Final error: 0.00378037824044\n",
      "It took 0:00:00.468725\n",
      "Results:\n",
      "\n",
      " X    y    Predicted\n",
      "[0 0] 0 0.0349913383061\n",
      "[0 1] 1 0.954790641348\n",
      "[1 0] 1 0.962021370068\n",
      "[1 1] 0 0.0533727411107\n",
      "\n",
      "score: 99.622%\n"
     ]
    },
    {
     "data": {
      "image/png": "[encoded data removed]",
      "text/plain": [
       "<matplotlib.figure.Figure at 0x10bfc2d90>"
      ]
     },
     "metadata": {},
     "output_type": "display_data"
    },
    {
     "name": "stdout",
     "output_type": "stream",
     "text": [
      "CPU times: user 868 ms, sys: 74.8 ms, total: 943 ms\n",
      "Wall time: 1.03 s\n"
     ]
    }
   ],
   "source": [
    "clf = mlp(seed=1, activation=\"sigmoid\", max_iter=10000, \n",
    "          hidden_layer_size=4, alpha=0.1, tol=1e-3)\n",
    "%time clf.example_run()   "
   ]
  },
  {
   "cell_type": "markdown",
   "metadata": {},
   "source": [
    "#### Using tanh"
   ]
  },
  {
   "cell_type": "code",
   "execution_count": 4,
   "metadata": {
    "collapsed": false
   },
   "outputs": [
    {
     "name": "stdout",
     "output_type": "stream",
     "text": [
      "Starting MLP at: 2018-05-07 13:45:18.310348\n",
      "Stopping by error at 1164\n",
      "Finishing MLP training at: 2018-05-07 13:45:18.397661\n",
      "Final error: 0.000999217420691\n",
      "It took 0:00:00.087313\n",
      "Results:\n",
      "\n",
      " X    y    Predicted\n",
      "[0 0] 0 0.00112584266483\n",
      "[0 1] 1 0.964411543683\n",
      "[1 0] 1 0.973118901463\n",
      "[1 1] 0 0.00240969205842\n",
      "\n",
      "score: 99.900%\n"
     ]
    },
    {
     "data": {
      "image/png": "[encoded data removed]",
      "text/plain": [
       "<matplotlib.figure.Figure at 0x10cce4dd0>"
      ]
     },
     "metadata": {},
     "output_type": "display_data"
    },
    {
     "name": "stdout",
     "output_type": "stream",
     "text": [
      "CPU times: user 257 ms, sys: 8.86 ms, total: 266 ms\n",
      "Wall time: 282 ms\n"
     ]
    }
   ],
   "source": [
    "clf = mlp(seed=1, activation=\"tanh\", max_iter=10000, \n",
    "          hidden_layer_size=4, alpha=0.1, tol=1e-3)\n",
    "%time clf.example_run()   "
   ]
  },
  {
   "cell_type": "markdown",
   "metadata": {},
   "source": [
    "#### Using linear"
   ]
  },
  {
   "cell_type": "code",
   "execution_count": 5,
   "metadata": {
    "collapsed": false
   },
   "outputs": [
    {
     "name": "stdout",
     "output_type": "stream",
     "text": [
      "Starting MLP at: 2018-05-07 13:45:18.601158\n",
      "Finishing MLP training at: 2018-05-07 13:45:18.850148\n",
      "Final error: 0.5\n",
      "It took 0:00:00.248990\n",
      "Results:\n",
      "\n",
      " X    y    Predicted\n",
      "[0 0] 0 0.5\n",
      "[0 1] 1 0.5\n",
      "[1 0] 1 0.5\n",
      "[1 1] 0 0.5\n",
      "\n",
      "score: 50.000%\n"
     ]
    },
    {
     "data": {
      "image/png": "[encoded data removed]",
      "text/plain": [
       "<matplotlib.figure.Figure at 0x1098cc2d0>"
      ]
     },
     "metadata": {},
     "output_type": "display_data"
    },
    {
     "name": "stdout",
     "output_type": "stream",
     "text": [
      "CPU times: user 425 ms, sys: 8.61 ms, total: 434 ms\n",
      "Wall time: 437 ms\n"
     ]
    }
   ],
   "source": [
    "clf = mlp(seed=1, activation=\"linear\", max_iter=10000, \n",
    "          hidden_layer_size=4, alpha=0.1, tol=1e-3)\n",
    "%time clf.example_run()   "
   ]
  },
  {
   "cell_type": "markdown",
   "metadata": {},
   "source": [
    "#### Using softplus"
   ]
  },
  {
   "cell_type": "code",
   "execution_count": 6,
   "metadata": {
    "collapsed": false
   },
   "outputs": [
    {
     "name": "stdout",
     "output_type": "stream",
     "text": [
      "Starting MLP at: 2018-05-07 13:45:19.048055\n",
      "Stopping by error at 2357\n",
      "Finishing MLP training at: 2018-05-07 13:45:19.151201\n",
      "Final error: 0.000999532746936\n",
      "It took 0:00:00.103146\n",
      "Results:\n",
      "\n",
      " X    y    Predicted\n",
      "[0 0] 0 0.029591420851\n",
      "[0 1] 1 0.998144243488\n",
      "[1 0] 1 0.998795651237\n",
      "[1 1] 0 0.0334232394392\n",
      "\n",
      "score: 99.900%\n"
     ]
    },
    {
     "data": {
      "image/png": "[encoded data removed]",
      "text/plain": [
       "<matplotlib.figure.Figure at 0x10d2ad290>"
      ]
     },
     "metadata": {},
     "output_type": "display_data"
    },
    {
     "name": "stdout",
     "output_type": "stream",
     "text": [
      "CPU times: user 799 ms, sys: 56 ms, total: 855 ms\n",
      "Wall time: 1.01 s\n"
     ]
    }
   ],
   "source": [
    "clf = mlp(seed=1, activation=\"softplus\", max_iter=10000, \n",
    "          hidden_layer_size=4, alpha=0.1, tol=1e-3)\n",
    "%time clf.example_run()  "
   ]
  }
 ],
 "metadata": {
  "kernelspec": {
   "display_name": "Python 2",
   "language": "python",
   "name": "python2"
  },
  "language_info": {
   "codemirror_mode": {
    "name": "ipython",
    "version": 2
   },
   "file_extension": ".py",
   "mimetype": "text/x-python",
   "name": "python",
   "nbconvert_exporter": "python",
   "pygments_lexer": "ipython2",
   "version": "2.7.12"
  }
 },
 "nbformat": 4,
 "nbformat_minor": 0
}
