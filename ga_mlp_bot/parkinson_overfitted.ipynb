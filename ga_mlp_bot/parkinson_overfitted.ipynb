{
 "cells": [
  {
   "cell_type": "code",
   "execution_count": 3,
   "metadata": {
    "collapsed": false
   },
   "outputs": [],
   "source": [
    "import numpy as np\n",
    "import sys\n",
    "sys.path.append(\"../\")\n",
    "from mlp import mlp\n",
    "import matplotlib.pyplot as plt\n",
    "import pandas as pd\n",
    "from sklearn.metrics import r2_score\n",
    "from sklearn.preprocessing import MinMaxScaler\n",
    "import datetime\n",
    "import pickle\n"
   ]
  },
  {
   "cell_type": "markdown",
   "metadata": {},
   "source": [
    "## Loading data\n",
    "### Remember that 1 means PD"
   ]
  },
  {
   "cell_type": "code",
   "execution_count": 4,
   "metadata": {
    "collapsed": false,
    "scrolled": false
   },
   "outputs": [
    {
     "data": {
      "text/html": [
       "<div>\n",
       "<table border=\"1\" class=\"dataframe\">\n",
       "  <thead>\n",
       "    <tr style=\"text-align: right;\">\n",
       "      <th></th>\n",
       "      <th>name</th>\n",
       "      <th>MDVP:Fo(Hz)</th>\n",
       "      <th>MDVP:Fhi(Hz)</th>\n",
       "      <th>MDVP:Flo(Hz)</th>\n",
       "      <th>MDVP:Jitter(%)</th>\n",
       "      <th>MDVP:Jitter(Abs)</th>\n",
       "      <th>MDVP:RAP</th>\n",
       "      <th>MDVP:PPQ</th>\n",
       "      <th>Jitter:DDP</th>\n",
       "      <th>MDVP:Shimmer</th>\n",
       "      <th>...</th>\n",
       "      <th>Shimmer:DDA</th>\n",
       "      <th>NHR</th>\n",
       "      <th>HNR</th>\n",
       "      <th>status</th>\n",
       "      <th>RPDE</th>\n",
       "      <th>DFA</th>\n",
       "      <th>spread1</th>\n",
       "      <th>spread2</th>\n",
       "      <th>D2</th>\n",
       "      <th>PPE</th>\n",
       "    </tr>\n",
       "  </thead>\n",
       "  <tbody>\n",
       "    <tr>\n",
       "      <th>0</th>\n",
       "      <td>phon_R01_S01_1</td>\n",
       "      <td>119.992</td>\n",
       "      <td>157.302</td>\n",
       "      <td>74.997</td>\n",
       "      <td>0.00784</td>\n",
       "      <td>0.00007</td>\n",
       "      <td>0.00370</td>\n",
       "      <td>0.00554</td>\n",
       "      <td>0.01109</td>\n",
       "      <td>0.04374</td>\n",
       "      <td>...</td>\n",
       "      <td>0.06545</td>\n",
       "      <td>0.02211</td>\n",
       "      <td>21.033</td>\n",
       "      <td>1</td>\n",
       "      <td>0.414783</td>\n",
       "      <td>0.815285</td>\n",
       "      <td>-4.813031</td>\n",
       "      <td>0.266482</td>\n",
       "      <td>2.301442</td>\n",
       "      <td>0.284654</td>\n",
       "    </tr>\n",
       "    <tr>\n",
       "      <th>1</th>\n",
       "      <td>phon_R01_S01_2</td>\n",
       "      <td>122.400</td>\n",
       "      <td>148.650</td>\n",
       "      <td>113.819</td>\n",
       "      <td>0.00968</td>\n",
       "      <td>0.00008</td>\n",
       "      <td>0.00465</td>\n",
       "      <td>0.00696</td>\n",
       "      <td>0.01394</td>\n",
       "      <td>0.06134</td>\n",
       "      <td>...</td>\n",
       "      <td>0.09403</td>\n",
       "      <td>0.01929</td>\n",
       "      <td>19.085</td>\n",
       "      <td>1</td>\n",
       "      <td>0.458359</td>\n",
       "      <td>0.819521</td>\n",
       "      <td>-4.075192</td>\n",
       "      <td>0.335590</td>\n",
       "      <td>2.486855</td>\n",
       "      <td>0.368674</td>\n",
       "    </tr>\n",
       "    <tr>\n",
       "      <th>2</th>\n",
       "      <td>phon_R01_S01_3</td>\n",
       "      <td>116.682</td>\n",
       "      <td>131.111</td>\n",
       "      <td>111.555</td>\n",
       "      <td>0.01050</td>\n",
       "      <td>0.00009</td>\n",
       "      <td>0.00544</td>\n",
       "      <td>0.00781</td>\n",
       "      <td>0.01633</td>\n",
       "      <td>0.05233</td>\n",
       "      <td>...</td>\n",
       "      <td>0.08270</td>\n",
       "      <td>0.01309</td>\n",
       "      <td>20.651</td>\n",
       "      <td>1</td>\n",
       "      <td>0.429895</td>\n",
       "      <td>0.825288</td>\n",
       "      <td>-4.443179</td>\n",
       "      <td>0.311173</td>\n",
       "      <td>2.342259</td>\n",
       "      <td>0.332634</td>\n",
       "    </tr>\n",
       "    <tr>\n",
       "      <th>3</th>\n",
       "      <td>phon_R01_S01_4</td>\n",
       "      <td>116.676</td>\n",
       "      <td>137.871</td>\n",
       "      <td>111.366</td>\n",
       "      <td>0.00997</td>\n",
       "      <td>0.00009</td>\n",
       "      <td>0.00502</td>\n",
       "      <td>0.00698</td>\n",
       "      <td>0.01505</td>\n",
       "      <td>0.05492</td>\n",
       "      <td>...</td>\n",
       "      <td>0.08771</td>\n",
       "      <td>0.01353</td>\n",
       "      <td>20.644</td>\n",
       "      <td>1</td>\n",
       "      <td>0.434969</td>\n",
       "      <td>0.819235</td>\n",
       "      <td>-4.117501</td>\n",
       "      <td>0.334147</td>\n",
       "      <td>2.405554</td>\n",
       "      <td>0.368975</td>\n",
       "    </tr>\n",
       "    <tr>\n",
       "      <th>4</th>\n",
       "      <td>phon_R01_S01_5</td>\n",
       "      <td>116.014</td>\n",
       "      <td>141.781</td>\n",
       "      <td>110.655</td>\n",
       "      <td>0.01284</td>\n",
       "      <td>0.00011</td>\n",
       "      <td>0.00655</td>\n",
       "      <td>0.00908</td>\n",
       "      <td>0.01966</td>\n",
       "      <td>0.06425</td>\n",
       "      <td>...</td>\n",
       "      <td>0.10470</td>\n",
       "      <td>0.01767</td>\n",
       "      <td>19.649</td>\n",
       "      <td>1</td>\n",
       "      <td>0.417356</td>\n",
       "      <td>0.823484</td>\n",
       "      <td>-3.747787</td>\n",
       "      <td>0.234513</td>\n",
       "      <td>2.332180</td>\n",
       "      <td>0.410335</td>\n",
       "    </tr>\n",
       "  </tbody>\n",
       "</table>\n",
       "<p>5 rows × 24 columns</p>\n",
       "</div>"
      ],
      "text/plain": [
       "             name  MDVP:Fo(Hz)  MDVP:Fhi(Hz)  MDVP:Flo(Hz)  MDVP:Jitter(%)  \\\n",
       "0  phon_R01_S01_1      119.992       157.302        74.997         0.00784   \n",
       "1  phon_R01_S01_2      122.400       148.650       113.819         0.00968   \n",
       "2  phon_R01_S01_3      116.682       131.111       111.555         0.01050   \n",
       "3  phon_R01_S01_4      116.676       137.871       111.366         0.00997   \n",
       "4  phon_R01_S01_5      116.014       141.781       110.655         0.01284   \n",
       "\n",
       "   MDVP:Jitter(Abs)  MDVP:RAP  MDVP:PPQ  Jitter:DDP  MDVP:Shimmer    ...     \\\n",
       "0           0.00007   0.00370   0.00554     0.01109       0.04374    ...      \n",
       "1           0.00008   0.00465   0.00696     0.01394       0.06134    ...      \n",
       "2           0.00009   0.00544   0.00781     0.01633       0.05233    ...      \n",
       "3           0.00009   0.00502   0.00698     0.01505       0.05492    ...      \n",
       "4           0.00011   0.00655   0.00908     0.01966       0.06425    ...      \n",
       "\n",
       "   Shimmer:DDA      NHR     HNR  status      RPDE       DFA   spread1  \\\n",
       "0      0.06545  0.02211  21.033       1  0.414783  0.815285 -4.813031   \n",
       "1      0.09403  0.01929  19.085       1  0.458359  0.819521 -4.075192   \n",
       "2      0.08270  0.01309  20.651       1  0.429895  0.825288 -4.443179   \n",
       "3      0.08771  0.01353  20.644       1  0.434969  0.819235 -4.117501   \n",
       "4      0.10470  0.01767  19.649       1  0.417356  0.823484 -3.747787   \n",
       "\n",
       "    spread2        D2       PPE  \n",
       "0  0.266482  2.301442  0.284654  \n",
       "1  0.335590  2.486855  0.368674  \n",
       "2  0.311173  2.342259  0.332634  \n",
       "3  0.334147  2.405554  0.368975  \n",
       "4  0.234513  2.332180  0.410335  \n",
       "\n",
       "[5 rows x 24 columns]"
      ]
     },
     "execution_count": 4,
     "metadata": {},
     "output_type": "execute_result"
    }
   ],
   "source": [
    "data = pd.read_csv(\"../dataset/parkinsons.data\")\n",
    "data.head()"
   ]
  },
  {
   "cell_type": "markdown",
   "metadata": {},
   "source": [
    "## Defining X and y"
   ]
  },
  {
   "cell_type": "code",
   "execution_count": 5,
   "metadata": {
    "collapsed": false
   },
   "outputs": [
    {
     "name": "stdout",
     "output_type": "stream",
     "text": [
      "0 name\n",
      "1 MDVP:Fo(Hz)\n",
      "2 MDVP:Fhi(Hz)\n",
      "3 MDVP:Flo(Hz)\n",
      "4 MDVP:Jitter(%)\n",
      "5 MDVP:Jitter(Abs)\n",
      "6 MDVP:RAP\n",
      "7 MDVP:PPQ\n",
      "8 Jitter:DDP\n",
      "9 MDVP:Shimmer\n",
      "10 MDVP:Shimmer(dB)\n",
      "11 Shimmer:APQ3\n",
      "12 Shimmer:APQ5\n",
      "13 MDVP:APQ\n",
      "14 Shimmer:DDA\n",
      "15 NHR\n",
      "16 HNR\n",
      "17 status\n",
      "18 RPDE\n",
      "19 DFA\n",
      "20 spread1\n",
      "21 spread2\n",
      "22 D2\n",
      "23 PPE\n"
     ]
    }
   ],
   "source": [
    "c = 0\n",
    "for i in data.columns:\n",
    "    print c, i \n",
    "    c+=1"
   ]
  },
  {
   "cell_type": "code",
   "execution_count": 6,
   "metadata": {
    "collapsed": false
   },
   "outputs": [
    {
     "name": "stdout",
     "output_type": "stream",
     "text": [
      "total PD 147\n",
      "total no PD 48\n",
      "(147,)\n",
      "(48,)\n",
      "(96,)\n"
     ]
    }
   ],
   "source": [
    "print \"total PD\", data.status.values.tolist().count(1)\n",
    "print \"total no PD\", data.status.values.tolist().count(0)\n",
    "# as the number of PD and no PD is hugely different, resampling to get even amounts\n",
    "pd_index = data.index[data.loc[:, \"status\"]==1]\n",
    "nopd_index = data.index[data.loc[:, \"status\"]==0]\n",
    "print pd_index.shape\n",
    "print nopd_index.shape\n",
    "#making data more even\n",
    "my_index = np.hstack((pd_index[:48], nopd_index))\n",
    "print my_index.shape"
   ]
  },
  {
   "cell_type": "code",
   "execution_count": 7,
   "metadata": {
    "collapsed": false
   },
   "outputs": [
    {
     "name": "stdout",
     "output_type": "stream",
     "text": [
      "(96, 23) (96,)\n"
     ]
    }
   ],
   "source": [
    "scaler = MinMaxScaler()\n",
    "X = data.values[my_index, 1:].astype(np.float64)\n",
    "scaler.fit(X)\n",
    "X_scaled = scaler.transform(X) #data[data.columns[[1, 2, 3]]].values\n",
    "y = data.status.values.astype(np.float64)[my_index]#.reshape(-1,1)\n",
    "print X.shape, y.shape\n"
   ]
  },
  {
   "cell_type": "code",
   "execution_count": 8,
   "metadata": {
    "collapsed": false
   },
   "outputs": [
    {
     "data": {
      "image/png": "[encoded data removed]",
      "text/plain": [
       "<matplotlib.figure.Figure at 0x10dfc2490>"
      ]
     },
     "metadata": {},
     "output_type": "display_data"
    },
    {
     "data": {
      "image/png": "[encoded data removed]",
      "text/plain": [
       "<matplotlib.figure.Figure at 0x10e0a2e90>"
      ]
     },
     "metadata": {},
     "output_type": "display_data"
    }
   ],
   "source": [
    "mydata= [22,19,0,1,2]\n",
    "X_data =  X[:, mydata].astype(np.float64)\n",
    "\n",
    "plt.scatter(X_data[:,0], X_data[:,1], s=40, c=y, cmap=plt.cm.Spectral)\n",
    "plt.scatter(X_data[:,0], X_data[:,2], s=40, c=y, cmap=plt.cm.Spectral)\n",
    "\n",
    "plt.scatter(X_data[:,1], X_data[:,2], s=40, c=y, cmap=plt.cm.Spectral)\n",
    "plt.title(\"Not scaled\")\n",
    "plt.show()\n",
    "\n",
    "\n",
    "#######################   SCALED    ##########################\n",
    "\n",
    "\n",
    "\n",
    "\n",
    "X_data_sc =  X_scaled[:, mydata].astype(np.float64)#X[:, [22, 19, 0, 1]] #X[:, [22, 21, 20, 19]]  #X[:, [0,1,2]] \n",
    "\n",
    "plt.scatter(X_data_sc[:,0], X_data_sc[:,1], s=40, c=y, cmap=plt.cm.Spectral)\n",
    "plt.scatter(X_data_sc[:,0], X_data_sc[:,2], s=40, c=y, cmap=plt.cm.Spectral)\n",
    "\n",
    "plt.scatter(X_data_sc[:,1], X_data_sc[:,2], s=40, c=y, cmap=plt.cm.Spectral)\n",
    "\n",
    "\n",
    "plt.title(\"Scaled\")\n",
    "plt.show()"
   ]
  },
  {
   "cell_type": "markdown",
   "metadata": {},
   "source": [
    "## Training "
   ]
  },
  {
   "cell_type": "code",
   "execution_count": 338,
   "metadata": {
    "collapsed": false
   },
   "outputs": [
    {
     "name": "stdout",
     "output_type": "stream",
     "text": [
      "-------------------------------\n",
      "new best found:  0.989583333333 seed 9348\n",
      "Estimated remaining time:  0:00:27.907230\n",
      "Estimated finishing time:  2018-06-19 15:41:31.161348\n",
      "-------------------------------\n",
      "new best found:  1.0 seed 6765\n",
      "Estimated remaining time:  0:00:10.130340\n",
      "Estimated finishing time:  2018-06-19 15:41:32.601495\n",
      "\n",
      "\n",
      "=======ended======\n",
      "\n",
      "\n",
      "Best seed found: 6765 score: 1.0\n",
      "Finished at  2018-06-19 15:41:30.789592\n"
     ]
    }
   ],
   "source": [
    "#looking for better parameters\n",
    "tot = 30\n",
    "sc = 0.8\n",
    "j = 0\n",
    "bestseed = 0\n",
    "myrange = np.random.randint(0, 10000, (tot))\n",
    "for i in myrange:\n",
    "        st = datetime.datetime.now()\n",
    "        clf = mlp(seed=i, activation=\"tanh\", max_iter=10000, \n",
    "                  hidden_layer_size=12, alpha=0.001, momentum=0.9, \n",
    "                  tol=1e-3, weight_range=(-1,1), bias=True, classifier=True)\n",
    "\n",
    " \n",
    "        clf.fit(X_data_sc, y)\n",
    "        predi =  clf.predict(X_data_sc)\n",
    "        r2 = clf.score(X_data_sc, y) #r2_score(predi, y) \n",
    "        delta_t = datetime.datetime.now() - st\n",
    "        if r2>sc:\n",
    "            print \"-------------------------------\"\n",
    "            #if r2!=1.0:\n",
    "            print \"new best found: \", r2, \"seed\", i\n",
    "            print \"Estimated remaining time: \", delta_t * (tot - j)\n",
    "            print \"Estimated finishing time: \", datetime.datetime.now() + delta_t * (tot - j)\n",
    "\n",
    "            sc = r2 \n",
    "            bestseed = i\n",
    "            #else:\n",
    "            # print \"Passing overfitting\"\n",
    "        j+=1\n",
    "        \n",
    "print \"\\n\\n=======ended======\\n\\n\"\n",
    "print \"Best seed found:\", bestseed, \"score:\", sc\n",
    "print \"Finished at \", datetime.datetime.now()"
   ]
  },
  {
   "cell_type": "code",
   "execution_count": 337,
   "metadata": {
    "collapsed": false,
    "scrolled": true
   },
   "outputs": [
    {
     "name": "stdout",
     "output_type": "stream",
     "text": [
      "CPU times: user 1.16 s, sys: 20.5 ms, total: 1.18 s\n",
      "Wall time: 1.24 s\n",
      "Training Error:  0.603549828429\n",
      "Validation Score:  0.396450171571\n",
      "Validation R2score:  0.949704180964\n"
     ]
    },
    {
     "data": {
      "image/png": "[encoded data removed]",
      "text/plain": [
       "<matplotlib.figure.Figure at 0x1045b09d0>"
      ]
     },
     "metadata": {},
     "output_type": "display_data"
    },
    {
     "name": "stdout",
     "output_type": "stream",
     "text": [
      "0.809517018247 1.0\n",
      "0.986254507701 1.0\n",
      "0.973871054947 1.0\n",
      "0.988685058197 1.0\n",
      "0.995792805641 1.0\n",
      "0.983691166085 1.0\n",
      "0.543152376618 1.0\n",
      "0.556937408515 1.0\n",
      "0.994390361135 1.0\n",
      "0.999266964867 1.0\n",
      "0.999933035633 1.0\n",
      "0.999865367279 1.0\n",
      "0.917053049333 1.0\n",
      "0.96887888166 1.0\n",
      "0.993499948448 1.0\n",
      "0.984723182955 1.0\n",
      "0.99399486572 1.0\n",
      "0.999228298362 1.0\n",
      "0.995128531159 1.0\n",
      "0.999970214293 1.0\n",
      "0.996431637899 1.0\n",
      "0.994059033685 1.0\n",
      "0.999239851476 1.0\n",
      "0.995722058229 1.0\n",
      "0.996617005191 1.0\n",
      "0.87817940094 1.0\n",
      "0.822820903789 1.0\n",
      "0.988525797059 1.0\n",
      "0.812021551415 1.0\n",
      "0.934644103869 1.0\n",
      "0.998267650589 1.0\n",
      "0.999300619004 1.0\n",
      "0.987957876001 1.0\n",
      "0.958820478481 1.0\n",
      "0.905183785804 1.0\n",
      "0.748720717281 1.0\n",
      "0.974188306444 1.0\n",
      "0.989424186543 1.0\n",
      "0.981433466981 1.0\n",
      "0.947562246655 1.0\n",
      "0.952898149189 1.0\n",
      "0.818342706036 1.0\n",
      "0.989467777214 1.0\n",
      "0.989775714284 1.0\n",
      "0.996210937157 1.0\n",
      "0.997012765496 1.0\n",
      "0.996904249055 1.0\n",
      "0.990673555712 1.0\n",
      "0.151998063491 0.0\n",
      "-0.0259107741602 0.0\n",
      "0.180234257069 0.0\n",
      "-0.0399030966546 0.0\n",
      "-0.0938084361735 0.0\n",
      "-0.0524664148588 0.0\n",
      "-0.0089274332876 0.0\n",
      "-0.0141938348344 0.0\n",
      "0.00823158615521 0.0\n",
      "-0.0137748808915 0.0\n",
      "-0.00922713327067 0.0\n",
      "0.0451523943002 0.0\n",
      "0.0265967317897 0.0\n",
      "-0.0514461636998 0.0\n",
      "0.122898885545 0.0\n",
      "-0.0882072062614 0.0\n",
      "0.0691885760092 0.0\n",
      "-0.0201203375844 0.0\n",
      "-0.0778012871679 0.0\n",
      "0.0122553795567 0.0\n",
      "-0.0374855903237 0.0\n",
      "0.0119606257987 0.0\n",
      "-0.00436325744766 0.0\n",
      "0.0400722127951 0.0\n",
      "0.070403463327 0.0\n",
      "0.0148446464764 0.0\n",
      "0.0138686254094 0.0\n",
      "-0.0657359541162 0.0\n",
      "-0.0150828110402 0.0\n",
      "-0.0086330864698 0.0\n",
      "-0.126290227615 0.0\n",
      "0.245850599489 0.0\n",
      "0.0646236326779 0.0\n",
      "-0.200661940243 0.0\n",
      "0.181328799137 0.0\n",
      "0.0734339105645 0.0\n",
      "0.284086217889 0.0\n",
      "0.278914008726 0.0\n",
      "-0.0374453944837 0.0\n",
      "0.0343145483264 0.0\n",
      "-0.0394111409064 0.0\n",
      "0.0602698193606 0.0\n",
      "-0.0741724387583 0.0\n",
      "0.289174618142 0.0\n",
      "-0.120695032819 0.0\n",
      "0.059605825229 0.0\n",
      "0.00583065722614 0.0\n",
      "0.0365659023171 0.0\n"
     ]
    }
   ],
   "source": [
    "clf = mlp(seed=4021, activation=\"tanh\", max_iter=10000, \n",
    "          hidden_layer_size=12, alpha=0.001, momentum=0.9, \n",
    "          tol=1e-3, weight_range=(-1,1), bias=True, classifier=False)\n",
    "\n",
    "%time clf.fit(X_data_sc, y)\n",
    "print \"Training Error: \", 1 - clf.score(X_data_sc, y)\n",
    "\n",
    "pred =  clf.predict(X_data_sc)\n",
    " \n",
    "print \"Validation Score: \", clf.score(X_data_sc, y) \n",
    "print \"Validation R2score: \", r2_score(y, pred)\n",
    "\n",
    "%matplotlib inline\n",
    "plt.plot(clf.error_list)\n",
    "#plt.ylim(0, 15)\n",
    "plt.show()\n",
    "for i in xrange(pred.shape[0]):\n",
    "    print pred[i,0], y[i]"
   ]
  },
  {
   "cell_type": "markdown",
   "metadata": {
    "collapsed": false
   },
   "source": [
    "### Saving to file"
   ]
  },
  {
   "cell_type": "code",
   "execution_count": 262,
   "metadata": {
    "collapsed": false
   },
   "outputs": [
    {
     "name": "stdout",
     "output_type": "stream",
     "text": [
      "Not saved\n"
     ]
    }
   ],
   "source": [
    "if 0:\n",
    "    f = open(\"pd.mlp\", \"w\")\n",
    "    f.write(pickle.dumps(clf))\n",
    "    f.close()\n",
    "    print \"Saved\"\n",
    "else:\n",
    "    print \"Not saved\""
   ]
  },
  {
   "cell_type": "markdown",
   "metadata": {},
   "source": [
    "## Genetic Algorithm"
   ]
  },
  {
   "cell_type": "code",
   "execution_count": 55,
   "metadata": {
    "collapsed": false,
    "scrolled": false
   },
   "outputs": [],
   "source": [
    "class genetic_population_creator():\n",
    "\n",
    "    def __init__(self, mlp, example_population, population_size=100,\n",
    "                 class_a_to_b_prop=0.5, crossover_rate=0.5, mutate_rate=0.1, \n",
    "                 total_generations=1000, verbose=False, seed=None, error_stop=1e-3, unique=True):\n",
    "        \n",
    "        self.mlp = mlp # the instace of the MLP already traine\n",
    "        self.population = None\n",
    "        self.population_size = population_size\n",
    "        self.crossover_rate = crossover_rate\n",
    "        self.total_generations = total_generations\n",
    "        self.verbose = verbose\n",
    "        self.seed = seed\n",
    "        self.error_stop = error_stop\n",
    "        self.unique = unique\n",
    "        self.errorA = []\n",
    "        self.errorB = []\n",
    "        \n",
    "        #general purpose variables\n",
    "        self.my_max = np.amax(example_population, axis=0)\n",
    "        self.my_min = np.amin(example_population, axis=0)         \n",
    "\n",
    "        self._rank = None\n",
    "        self.fitnesses = None\n",
    "        self._fitness_array = None\n",
    "        self.to_mutate_n = int(population_size * mutate_rate)\n",
    "        self.to_crossover_n = int(crossover_rate * population_size)\n",
    "        self.inv_to_crossover_n = int(self.population_size - self.to_crossover_n)\n",
    "        self.class0_number = int(class_a_to_b_prop * population_size)\n",
    "        \n",
    "        \n",
    "    #creates the population    \n",
    "    def _create_population(self):\n",
    "        np.random.seed(self.seed)\n",
    "        #print my_max, my_min\n",
    "        pop = [] #CHEAT BELOW\n",
    "        for mn,mx  in zip(self.my_min, self.my_max):\n",
    "            if (mn<0) and (mx<0):\n",
    "                 pop.append(-(np.random.normal(-mx, -mn, (self.population_size))))\n",
    "            else:\n",
    "                pop.append(np.random.normal(mn, mx, (self.population_size)))\n",
    "        \n",
    "        self.population = np.abs(np.array(pop).T).round(3) #TODO REDO\n",
    "     \n",
    "    def _fill_pop(self, sz):\n",
    "        np.random.seed(self.seed)\n",
    "        #print my_max, my_min\n",
    "        pop = [] #CHEAT BELOW\n",
    "        for mn,mx  in zip(self.my_min, self.my_max):\n",
    "            if (mn<0) and (mx<0):\n",
    "                 pop.append(-(np.random.normal(-mx, -mn, (sz))))\n",
    "            else:\n",
    "                pop.append(np.random.normal(mn, mx, (sz)))\n",
    "\n",
    "        return np.abs(np.array(pop).T).round(3) #TODO REDO\n",
    "    \n",
    "    #calculates the fitness and ranks the population, the closer to zero, the better\n",
    "    # returns the rank (numbers from best to worst) and the error list sorted ()\n",
    "    def _get_fitnesses(self, myclass=0):\n",
    "\n",
    "        prediction = self.mlp.predict(self.population)[:,0]\n",
    "\n",
    "        #as we want to set the proportions, there are two fitnesses in one\n",
    "        # half the pop takes one, the other takes the second\n",
    "        \n",
    "        if myclass==0:\n",
    "            rank_not_sorted = np.abs(prediction) # the closer to 0, the better\n",
    "        else:\n",
    "             rank_not_sorted = np.abs(1. - prediction)\n",
    "\n",
    "        self._rank =  rank_not_sorted.argsort()\n",
    "        self._fitness_array = np.sort(rank_not_sorted)\n",
    "    \n",
    "    #calculates the external final fitness, assumes class a=>0, class b=>1 and resorts the population\n",
    "    def _final_sorter_grouper(self, class0, class1):  \n",
    "        pred_class0 = self.mlp.predict(class0)[:,0]\n",
    "        pred_class1 = self.mlp.predict(class1)[:,0]         \n",
    "        \n",
    "        rank_not_sorted_class0 = np.abs(pred_class0)\n",
    "        rank_not_sorted_class1 = np.abs(1. - pred_class1)\n",
    "        #print rank_not_sorted_class0.shape, rank_not_sorted_class1.shape\n",
    "        \n",
    "        rank_not_sorted = np.hstack((rank_not_sorted_class0[:self.class0_number], \n",
    "            rank_not_sorted_class1[self.class0_number:]))\n",
    "          \n",
    "        self.population = np.vstack((class0[:self.class0_number, :], class1[self.class0_number:, :]))\n",
    "        self.population = self.population[rank_not_sorted.argsort()]\n",
    "        self.fitnesses = np.sort(rank_not_sorted)\n",
    "        \n",
    "    # makes the crossover and removes the less fitted (the number of indivuals always stays the same)\n",
    "    def _crossover(self):\n",
    "        \n",
    "        np.random.seed(self.seed)\n",
    "        \n",
    "        #print\"cross\", n_cross, \"inv cross\" ,inv_n_cross \n",
    "        \n",
    "        # aligning the population to the order of the rank\n",
    "        self.population = self.population[self._rank]\n",
    "        #print \"\\n pop\", self.population\n",
    "        \n",
    "        #other from all array, to maintain the diversity\n",
    "        other_elements = np.copy(self._rank)\n",
    "        np.random.shuffle(other_elements)\n",
    "        #print \"\\n shuffle\\n\", other_elements \n",
    "        \n",
    "        #choosing randomly th point to cross, as it is an odd number\n",
    "        cross_point = np.random.randint(1, self.population.shape[1])\n",
    "        #print \"\\n cross point\", cross_point\n",
    "        \n",
    "        #crossing the bests with the others and removing excessive data\n",
    "        rand_pop = self.population[other_elements]\n",
    "        data = np.hstack((self.population[:, :cross_point], rand_pop[:, cross_point:]))\n",
    "        #print \"\\n data\\n\", data\n",
    "        \n",
    "        #adding new individuals to end and removing the worst ones\n",
    "        #print\"cross\", n_cross, \"inv cross\" ,inv_n_cross\n",
    "        \n",
    "        #old_pop = self.population[:self.inv_to_crossover_n, :]\n",
    "        new_pop = data[:self.to_crossover_n, :]\n",
    "        #print\"old\", old_pop.shape,\"\\n new\", new_pop.shape \n",
    "\n",
    "        #self.population = np.vstack((old_pop, new_pop))\n",
    "        self.population = np.vstack((self.population, new_pop))\n",
    "        #print \"\\n pop\\n\", self.population\n",
    "        \n",
    "    \n",
    "    # mutates the remaining population\n",
    "    def _mutate(self):\n",
    "                \n",
    "        # no reason to run if not to mutate\n",
    "        if self.to_mutate_n > 0:\n",
    "            np.random.seed(self.seed)\n",
    "            my_array = np.copy(self._rank)\n",
    "            np.random.shuffle(my_array)\n",
    "            #indivuals to mutate\n",
    "            mutated_individuals = my_array[:self.to_mutate_n]\n",
    "            #mutated cromossomes\n",
    "            mutated_cromossomes = np.random.randint(0, self.population.shape[1], (self.to_mutate_n))\n",
    "            #print\"\\n muatation\" \n",
    "            #print mutated_individuals, mutated_cromossomes\n",
    "            \n",
    "            m_pop = self._fill_pop(self.to_mutate_n)[:, mutated_cromossomes][:, 0]\n",
    "            #print m_pop\n",
    "        \n",
    "            self.population[mutated_individuals, mutated_cromossomes] = m_pop\n",
    "        \n",
    "    #trims to the wanted size and removes not unique elements, if wanted\n",
    "    def _trimmer(self):\n",
    "        if self.unique:\n",
    "            pop = self.population[self._rank] #must sort before\n",
    "            pop_unique = np.unique(pop, axis=0)\n",
    "            tx = self.population_size - pop_unique.shape[0]  \n",
    "            if tx > 0:\n",
    "                pop_fill = self._fill_pop(tx)\n",
    "                self.population = np.vstack((pop_unique, pop_fill)) # adding new individuals\n",
    "            else:\n",
    "                self.population = pop_unique[:self.population_size, :]       \n",
    "        else:\n",
    "            pop = self.population[self._rank]\n",
    "            self.population = pop[:self.population_size, :]\n",
    "        \n",
    "        #just executig one time\n",
    "        self._rank = self._rank[:self.population_size]\n",
    "        \n",
    "    #receives noinput and returns the generated population\n",
    "    def fit(self):\n",
    "        \n",
    "        # generating class A\n",
    "        \n",
    "        if self.verbose:\n",
    "            print \"Finding class A\"\n",
    "        \n",
    "        self._create_population()  \n",
    "        self.errorA = []\n",
    "        for i in xrange(self.total_generations):\n",
    "            \n",
    "            self._get_fitnesses(myclass=0)\n",
    "            self._crossover()\n",
    "            self._mutate()\n",
    "            self._get_fitnesses(myclass=0)\n",
    "            self._trimmer()\n",
    "            \n",
    "            my_tot_error = self._fitness_array.sum()\n",
    "            self.errorA.append(my_tot_error) \n",
    "            if self.verbose:\n",
    "                print \"---> Summed scores: %s\"%self._fitness_array.sum()\n",
    "            if my_tot_error<=self.error_stop:\n",
    "                print \"A stopping by error at %s\"%i\n",
    "                break\n",
    "        class0 = np.copy(self.population) \n",
    "\n",
    "\n",
    "        # generating class B  \n",
    "        if self.verbose:\n",
    "            print \"Finding class B\"\n",
    "            \n",
    "        self._create_population()\n",
    "        self.errorB = []\n",
    "        for i in xrange(self.total_generations):\n",
    "            \n",
    "            self._get_fitnesses(myclass=1)  \n",
    "            self._crossover()\n",
    "            self._mutate()\n",
    "            self._get_fitnesses(myclass=1)\n",
    "            self._trimmer()\n",
    "            \n",
    "            my_tot_error = self._fitness_array.sum()\n",
    "            self.errorB.append(my_tot_error)\n",
    "            if self.verbose:\n",
    "                print \"---> Summed scores: %s\"%self._fitness_array.sum()\n",
    "            if my_tot_error<=self.error_stop:\n",
    "                print \"B stopping by error at %s\"%i\n",
    "                break  \n",
    "\n",
    "        # setting the final rank joining  and the population back together\n",
    "        self._final_sorter_grouper(class0, self.population)\n"
   ]
  },
  {
   "cell_type": "code",
   "execution_count": 93,
   "metadata": {
    "collapsed": false,
    "scrolled": true
   },
   "outputs": [],
   "source": [
    "f = open(\"pd.mlp\", \"r\")\n",
    "clf = pickle.loads(f.read())\n",
    "f.close()\n",
    "ga = genetic_population_creator(clf, X_data_sc, population_size=10, seed=None,\n",
    "                     verbose=False, total_generations=200, error_stop=1-10,\n",
    "                     crossover_rate=0.2, mutate_rate=0.1, class_a_to_b_prop=0.5, unique=True)"
   ]
  },
  {
   "cell_type": "code",
   "execution_count": 99,
   "metadata": {
    "collapsed": false
   },
   "outputs": [
    {
     "name": "stdout",
     "output_type": "stream",
     "text": [
      "CPU times: user 194 ms, sys: 5.66 s, total: 5.85 s\n",
      "Wall time: 5.92 s\n",
      "[[0.133 0.075 0.498 0.528 0.348]\n",
      " [0.1   0.532 0.487 2.039 0.348]\n",
      " [0.133 0.075 0.379 0.412 0.562]\n",
      " [0.049 0.25  0.872 0.221 0.18 ]\n",
      " [0.049 0.25  0.987 0.221 0.304]\n",
      " [0.133 0.043 0.685 0.412 1.204]\n",
      " [0.133 0.075 0.292 0.481 2.019]\n",
      " [0.049 0.25  1.11  0.433 0.304]\n",
      " [0.049 0.25  0.987 0.845 0.42 ]\n",
      " [0.049 0.25  0.526 0.845 0.18 ]] (10, 5)\n"
     ]
    }
   ],
   "source": [
    "%time ga.fit()\n",
    "print ga.population, ga.population.shape"
   ]
  },
  {
   "cell_type": "code",
   "execution_count": 102,
   "metadata": {
    "collapsed": false,
    "scrolled": false
   },
   "outputs": [
    {
     "name": "stdout",
     "output_type": "stream",
     "text": [
      "1.14.0 Unique values\n",
      "[[0.049 0.25  0.526 0.845 0.18 ]\n",
      " [0.049 0.25  0.872 0.221 0.18 ]\n",
      " [0.049 0.25  0.987 0.221 0.304]\n",
      " [0.049 0.25  0.987 0.845 0.42 ]\n",
      " [0.049 0.25  1.11  0.433 0.304]\n",
      " [0.1   0.532 0.487 2.039 0.348]\n",
      " [0.133 0.043 0.685 0.412 1.204]\n",
      " [0.133 0.075 0.292 0.481 2.019]\n",
      " [0.133 0.075 0.379 0.412 0.562]\n",
      " [0.133 0.075 0.498 0.528 0.348]]\n",
      "[-0.15955695  0.09775613  0.09664573 -0.15051031 -0.01414416 -0.73566732\n",
      "  0.9498037   0.99999999  0.79803742 -0.44627624]\n",
      "[0 0 0 0 0 0 1 1 1 0]\n"
     ]
    }
   ],
   "source": [
    "print np.version.version, \"Unique values\"\n",
    "gxa = np.unique(ga.population, axis=0)\n",
    "print gxa \n",
    "xa = clf.predict(gxa)\n",
    "print xa[:,0]\n",
    "print np.where(1, xa>=0.5, 0)[:,0]"
   ]
  },
  {
   "cell_type": "code",
   "execution_count": 103,
   "metadata": {
    "collapsed": false
   },
   "outputs": [
    {
     "name": "stdout",
     "output_type": "stream",
     "text": [
      "[-0.44627624 -0.73566732  0.79803742  0.09775613  0.09664573  0.9498037\n",
      "  0.99999999 -0.01414416 -0.15051031 -0.15955695]\n",
      "[0 0 1 0 0 1 1 0 0 0]\n"
     ]
    }
   ],
   "source": [
    "x = clf.predict(ga.population)\n",
    "print x[:,0]\n",
    "print np.where(1, x>=0.5, 0)[:,0]"
   ]
  },
  {
   "cell_type": "code",
   "execution_count": 92,
   "metadata": {
    "collapsed": false
   },
   "outputs": [
    {
     "data": {
      "image/png": "[encoded data removed]",
      "text/plain": [
       "<matplotlib.figure.Figure at 0x10e3567d0>"
      ]
     },
     "metadata": {},
     "output_type": "display_data"
    }
   ],
   "source": [
    "plt.subplot(211)\n",
    "plt.plot(ga.errorA)\n",
    "plt.title(\"Error A0\")\n",
    "plt.subplot(212)\n",
    "plt.plot(ga.errorB)\n",
    "plt.title(\"Error B1\")\n",
    "plt.show()"
   ]
  },
  {
   "cell_type": "code",
   "execution_count": null,
   "metadata": {
    "collapsed": true
   },
   "outputs": [],
   "source": []
  }
 ],
 "metadata": {
  "kernelspec": {
   "display_name": "Python 2",
   "language": "python",
   "name": "python2"
  },
  "language_info": {
   "codemirror_mode": {
    "name": "ipython",
    "version": 2
   },
   "file_extension": ".py",
   "mimetype": "text/x-python",
   "name": "python",
   "nbconvert_exporter": "python",
   "pygments_lexer": "ipython2",
   "version": "2.7.12"
  }
 },
 "nbformat": 4,
 "nbformat_minor": 0
}
