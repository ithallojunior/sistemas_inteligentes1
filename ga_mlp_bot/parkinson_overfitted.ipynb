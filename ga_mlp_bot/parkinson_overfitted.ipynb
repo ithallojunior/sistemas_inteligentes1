{
 "cells": [
  {
   "cell_type": "code",
   "execution_count": 1,
   "metadata": {
    "collapsed": false
   },
   "outputs": [],
   "source": [
    "import numpy as np\n",
    "import sys\n",
    "sys.path.append(\"../\")\n",
    "from mlp import mlp\n",
    "import matplotlib.pyplot as plt\n",
    "import pandas as pd\n",
    "from sklearn.metrics import r2_score\n",
    "from sklearn.preprocessing import scale\n",
    "import datetime\n",
    "import pickle"
   ]
  },
  {
   "cell_type": "markdown",
   "metadata": {},
   "source": [
    "## Remap function REDO "
   ]
  },
  {
   "cell_type": "code",
   "execution_count": 2,
   "metadata": {
    "collapsed": true
   },
   "outputs": [],
   "source": [
    "def remap(X, converted_array=None, inv=False):\n",
    "    if inv:\n",
    "        return (converted_array * (X.max() - X.min()) + X.min()) * 1000.\n",
    "    else:\n",
    "        return(X - X.min())/(X.max() - X.min())/1000."
   ]
  },
  {
   "cell_type": "markdown",
   "metadata": {},
   "source": [
    "## Loading data\n",
    "### Remember that 1 means PD"
   ]
  },
  {
   "cell_type": "code",
   "execution_count": 3,
   "metadata": {
    "collapsed": false,
    "scrolled": false
   },
   "outputs": [
    {
     "data": {
      "text/html": [
       "<div>\n",
       "<table border=\"1\" class=\"dataframe\">\n",
       "  <thead>\n",
       "    <tr style=\"text-align: right;\">\n",
       "      <th></th>\n",
       "      <th>name</th>\n",
       "      <th>MDVP:Fo(Hz)</th>\n",
       "      <th>MDVP:Fhi(Hz)</th>\n",
       "      <th>MDVP:Flo(Hz)</th>\n",
       "      <th>MDVP:Jitter(%)</th>\n",
       "      <th>MDVP:Jitter(Abs)</th>\n",
       "      <th>MDVP:RAP</th>\n",
       "      <th>MDVP:PPQ</th>\n",
       "      <th>Jitter:DDP</th>\n",
       "      <th>MDVP:Shimmer</th>\n",
       "      <th>...</th>\n",
       "      <th>Shimmer:DDA</th>\n",
       "      <th>NHR</th>\n",
       "      <th>HNR</th>\n",
       "      <th>status</th>\n",
       "      <th>RPDE</th>\n",
       "      <th>DFA</th>\n",
       "      <th>spread1</th>\n",
       "      <th>spread2</th>\n",
       "      <th>D2</th>\n",
       "      <th>PPE</th>\n",
       "    </tr>\n",
       "  </thead>\n",
       "  <tbody>\n",
       "    <tr>\n",
       "      <th>0</th>\n",
       "      <td>phon_R01_S01_1</td>\n",
       "      <td>119.992</td>\n",
       "      <td>157.302</td>\n",
       "      <td>74.997</td>\n",
       "      <td>0.00784</td>\n",
       "      <td>0.00007</td>\n",
       "      <td>0.00370</td>\n",
       "      <td>0.00554</td>\n",
       "      <td>0.01109</td>\n",
       "      <td>0.04374</td>\n",
       "      <td>...</td>\n",
       "      <td>0.06545</td>\n",
       "      <td>0.02211</td>\n",
       "      <td>21.033</td>\n",
       "      <td>1</td>\n",
       "      <td>0.414783</td>\n",
       "      <td>0.815285</td>\n",
       "      <td>-4.813031</td>\n",
       "      <td>0.266482</td>\n",
       "      <td>2.301442</td>\n",
       "      <td>0.284654</td>\n",
       "    </tr>\n",
       "    <tr>\n",
       "      <th>1</th>\n",
       "      <td>phon_R01_S01_2</td>\n",
       "      <td>122.400</td>\n",
       "      <td>148.650</td>\n",
       "      <td>113.819</td>\n",
       "      <td>0.00968</td>\n",
       "      <td>0.00008</td>\n",
       "      <td>0.00465</td>\n",
       "      <td>0.00696</td>\n",
       "      <td>0.01394</td>\n",
       "      <td>0.06134</td>\n",
       "      <td>...</td>\n",
       "      <td>0.09403</td>\n",
       "      <td>0.01929</td>\n",
       "      <td>19.085</td>\n",
       "      <td>1</td>\n",
       "      <td>0.458359</td>\n",
       "      <td>0.819521</td>\n",
       "      <td>-4.075192</td>\n",
       "      <td>0.335590</td>\n",
       "      <td>2.486855</td>\n",
       "      <td>0.368674</td>\n",
       "    </tr>\n",
       "    <tr>\n",
       "      <th>2</th>\n",
       "      <td>phon_R01_S01_3</td>\n",
       "      <td>116.682</td>\n",
       "      <td>131.111</td>\n",
       "      <td>111.555</td>\n",
       "      <td>0.01050</td>\n",
       "      <td>0.00009</td>\n",
       "      <td>0.00544</td>\n",
       "      <td>0.00781</td>\n",
       "      <td>0.01633</td>\n",
       "      <td>0.05233</td>\n",
       "      <td>...</td>\n",
       "      <td>0.08270</td>\n",
       "      <td>0.01309</td>\n",
       "      <td>20.651</td>\n",
       "      <td>1</td>\n",
       "      <td>0.429895</td>\n",
       "      <td>0.825288</td>\n",
       "      <td>-4.443179</td>\n",
       "      <td>0.311173</td>\n",
       "      <td>2.342259</td>\n",
       "      <td>0.332634</td>\n",
       "    </tr>\n",
       "    <tr>\n",
       "      <th>3</th>\n",
       "      <td>phon_R01_S01_4</td>\n",
       "      <td>116.676</td>\n",
       "      <td>137.871</td>\n",
       "      <td>111.366</td>\n",
       "      <td>0.00997</td>\n",
       "      <td>0.00009</td>\n",
       "      <td>0.00502</td>\n",
       "      <td>0.00698</td>\n",
       "      <td>0.01505</td>\n",
       "      <td>0.05492</td>\n",
       "      <td>...</td>\n",
       "      <td>0.08771</td>\n",
       "      <td>0.01353</td>\n",
       "      <td>20.644</td>\n",
       "      <td>1</td>\n",
       "      <td>0.434969</td>\n",
       "      <td>0.819235</td>\n",
       "      <td>-4.117501</td>\n",
       "      <td>0.334147</td>\n",
       "      <td>2.405554</td>\n",
       "      <td>0.368975</td>\n",
       "    </tr>\n",
       "    <tr>\n",
       "      <th>4</th>\n",
       "      <td>phon_R01_S01_5</td>\n",
       "      <td>116.014</td>\n",
       "      <td>141.781</td>\n",
       "      <td>110.655</td>\n",
       "      <td>0.01284</td>\n",
       "      <td>0.00011</td>\n",
       "      <td>0.00655</td>\n",
       "      <td>0.00908</td>\n",
       "      <td>0.01966</td>\n",
       "      <td>0.06425</td>\n",
       "      <td>...</td>\n",
       "      <td>0.10470</td>\n",
       "      <td>0.01767</td>\n",
       "      <td>19.649</td>\n",
       "      <td>1</td>\n",
       "      <td>0.417356</td>\n",
       "      <td>0.823484</td>\n",
       "      <td>-3.747787</td>\n",
       "      <td>0.234513</td>\n",
       "      <td>2.332180</td>\n",
       "      <td>0.410335</td>\n",
       "    </tr>\n",
       "  </tbody>\n",
       "</table>\n",
       "<p>5 rows × 24 columns</p>\n",
       "</div>"
      ],
      "text/plain": [
       "             name  MDVP:Fo(Hz)  MDVP:Fhi(Hz)  MDVP:Flo(Hz)  MDVP:Jitter(%)  \\\n",
       "0  phon_R01_S01_1      119.992       157.302        74.997         0.00784   \n",
       "1  phon_R01_S01_2      122.400       148.650       113.819         0.00968   \n",
       "2  phon_R01_S01_3      116.682       131.111       111.555         0.01050   \n",
       "3  phon_R01_S01_4      116.676       137.871       111.366         0.00997   \n",
       "4  phon_R01_S01_5      116.014       141.781       110.655         0.01284   \n",
       "\n",
       "   MDVP:Jitter(Abs)  MDVP:RAP  MDVP:PPQ  Jitter:DDP  MDVP:Shimmer    ...     \\\n",
       "0           0.00007   0.00370   0.00554     0.01109       0.04374    ...      \n",
       "1           0.00008   0.00465   0.00696     0.01394       0.06134    ...      \n",
       "2           0.00009   0.00544   0.00781     0.01633       0.05233    ...      \n",
       "3           0.00009   0.00502   0.00698     0.01505       0.05492    ...      \n",
       "4           0.00011   0.00655   0.00908     0.01966       0.06425    ...      \n",
       "\n",
       "   Shimmer:DDA      NHR     HNR  status      RPDE       DFA   spread1  \\\n",
       "0      0.06545  0.02211  21.033       1  0.414783  0.815285 -4.813031   \n",
       "1      0.09403  0.01929  19.085       1  0.458359  0.819521 -4.075192   \n",
       "2      0.08270  0.01309  20.651       1  0.429895  0.825288 -4.443179   \n",
       "3      0.08771  0.01353  20.644       1  0.434969  0.819235 -4.117501   \n",
       "4      0.10470  0.01767  19.649       1  0.417356  0.823484 -3.747787   \n",
       "\n",
       "    spread2        D2       PPE  \n",
       "0  0.266482  2.301442  0.284654  \n",
       "1  0.335590  2.486855  0.368674  \n",
       "2  0.311173  2.342259  0.332634  \n",
       "3  0.334147  2.405554  0.368975  \n",
       "4  0.234513  2.332180  0.410335  \n",
       "\n",
       "[5 rows x 24 columns]"
      ]
     },
     "execution_count": 3,
     "metadata": {},
     "output_type": "execute_result"
    }
   ],
   "source": [
    "data = pd.read_csv(\"../dataset/parkinsons.data\")\n",
    "data.head()"
   ]
  },
  {
   "cell_type": "markdown",
   "metadata": {},
   "source": [
    "## Defining X and y"
   ]
  },
  {
   "cell_type": "code",
   "execution_count": 4,
   "metadata": {
    "collapsed": false
   },
   "outputs": [
    {
     "name": "stdout",
     "output_type": "stream",
     "text": [
      "0 name\n",
      "1 MDVP:Fo(Hz)\n",
      "2 MDVP:Fhi(Hz)\n",
      "3 MDVP:Flo(Hz)\n",
      "4 MDVP:Jitter(%)\n",
      "5 MDVP:Jitter(Abs)\n",
      "6 MDVP:RAP\n",
      "7 MDVP:PPQ\n",
      "8 Jitter:DDP\n",
      "9 MDVP:Shimmer\n",
      "10 MDVP:Shimmer(dB)\n",
      "11 Shimmer:APQ3\n",
      "12 Shimmer:APQ5\n",
      "13 MDVP:APQ\n",
      "14 Shimmer:DDA\n",
      "15 NHR\n",
      "16 HNR\n",
      "17 status\n",
      "18 RPDE\n",
      "19 DFA\n",
      "20 spread1\n",
      "21 spread2\n",
      "22 D2\n",
      "23 PPE\n"
     ]
    }
   ],
   "source": [
    "c = 0\n",
    "for i in data.columns:\n",
    "    print c, i \n",
    "    c+=1"
   ]
  },
  {
   "cell_type": "code",
   "execution_count": 5,
   "metadata": {
    "collapsed": false
   },
   "outputs": [
    {
     "name": "stdout",
     "output_type": "stream",
     "text": [
      "total PD 147\n",
      "total no PD 48\n",
      "(147,)\n",
      "(48,)\n",
      "(96,)\n"
     ]
    }
   ],
   "source": [
    "print \"total PD\", data.status.values.tolist().count(1)\n",
    "print \"total no PD\", data.status.values.tolist().count(0)\n",
    "# as the number of PD and no PD is hugely different, resampling to get even amounts\n",
    "pd_index = data.index[data.loc[:, \"status\"]==1]\n",
    "nopd_index = data.index[data.loc[:, \"status\"]==0]\n",
    "print pd_index.shape\n",
    "print nopd_index.shape\n",
    "#making data more even\n",
    "my_index = np.hstack((pd_index[:48], nopd_index))\n",
    "print my_index.shape"
   ]
  },
  {
   "cell_type": "code",
   "execution_count": 6,
   "metadata": {
    "collapsed": false
   },
   "outputs": [
    {
     "name": "stdout",
     "output_type": "stream",
     "text": [
      "(96, 23) (96,)\n"
     ]
    }
   ],
   "source": [
    "X = data.values[my_index, 1:].astype(np.float64)\n",
    "X_scaled = scale(data.values[my_index, 1:].astype(np.float64)) #data[data.columns[[1, 2, 3]]].values\n",
    "y = data.status.values.astype(np.float64)[my_index]#.reshape(-1,1)\n",
    "print X.shape, y.shape"
   ]
  },
  {
   "cell_type": "code",
   "execution_count": 7,
   "metadata": {
    "collapsed": false
   },
   "outputs": [
    {
     "data": {
      "image/png": "[encoded data removed]",
      "text/plain": [
       "<matplotlib.figure.Figure at 0x10de0b290>"
      ]
     },
     "metadata": {},
     "output_type": "display_data"
    },
    {
     "data": {
      "image/png": "[encoded data removed]",
      "text/plain": [
       "<matplotlib.figure.Figure at 0x11032ac10>"
      ]
     },
     "metadata": {},
     "output_type": "display_data"
    }
   ],
   "source": [
    "X_data =  X[:, [0, 1,2]].astype(np.float64)#X[:, [22, 19, 0, 1]] #X[:, [22, 21, 20, 19]]  #X[:, [0,1,2]] \n",
    "\n",
    "plt.scatter(X_data[:,0], X_data[:,1], s=40, c=y, cmap=plt.cm.Spectral)\n",
    "plt.scatter(X_data[:,0], X_data[:,2], s=40, c=y, cmap=plt.cm.Spectral)\n",
    "\n",
    "plt.scatter(X_data[:,1], X_data[:,2], s=40, c=y, cmap=plt.cm.Spectral)\n",
    "plt.title(\"Not scaled\")\n",
    "plt.show()\n",
    "\n",
    "\n",
    "#######################   SCALED    ##########################\n",
    "\n",
    "\n",
    "\n",
    "\n",
    "X_data_sc =  X_scaled[:, [0, 1,2]].astype(np.float64)#X[:, [22, 19, 0, 1]] #X[:, [22, 21, 20, 19]]  #X[:, [0,1,2]] \n",
    "\n",
    "plt.scatter(X_data_sc[:,0], X_data_sc[:,1], s=40, c=y, cmap=plt.cm.Spectral)\n",
    "plt.scatter(X_data_sc[:,0], X_data_sc[:,2], s=40, c=y, cmap=plt.cm.Spectral)\n",
    "\n",
    "plt.scatter(X_data_sc[:,1], X_data_sc[:,2], s=40, c=y, cmap=plt.cm.Spectral)\n",
    "plt.title(\"Scaled\")\n",
    "plt.show()"
   ]
  },
  {
   "cell_type": "markdown",
   "metadata": {},
   "source": [
    "## Training and validating"
   ]
  },
  {
   "cell_type": "code",
   "execution_count": 41,
   "metadata": {
    "collapsed": false,
    "scrolled": true
   },
   "outputs": [
    {
     "name": "stdout",
     "output_type": "stream",
     "text": [
      "CPU times: user 1.2 s, sys: 2.8 ms, total: 1.21 s\n",
      "Wall time: 1.21 s\n",
      "Training Error:  23.999482166\n",
      "Validation Score:  0.952038496502\n",
      "Validation R2score:  0.996003208042\n"
     ]
    },
    {
     "data": {
      "image/png": "[encoded data removed]",
      "text/plain": [
       "<matplotlib.figure.Figure at 0x110bcc510>"
      ]
     },
     "metadata": {},
     "output_type": "display_data"
    },
    {
     "name": "stdout",
     "output_type": "stream",
     "text": [
      "0.999893247346 1.0\n",
      "1.0 1.0\n",
      "0.999999802198 1.0\n",
      "0.99999999996 1.0\n",
      "0.999999999248 1.0\n",
      "0.880495174254 1.0\n",
      "0.999999999978 1.0\n",
      "0.955699234743 1.0\n",
      "0.999999969738 1.0\n",
      "0.999999999952 1.0\n",
      "0.999999999951 1.0\n",
      "0.999999999724 1.0\n",
      "0.99999988 1.0\n",
      "0.999999833183 1.0\n",
      "0.999998594957 1.0\n",
      "0.992686423515 1.0\n",
      "0.985513868288 1.0\n",
      "0.989317039391 1.0\n",
      "0.999999999472 1.0\n",
      "1.0 1.0\n",
      "0.999999998133 1.0\n",
      "0.999999998199 1.0\n",
      "0.999999981868 1.0\n",
      "0.987600144349 1.0\n",
      "0.999999996858 1.0\n",
      "0.99999997886 1.0\n",
      "0.999948694376 1.0\n",
      "0.999999988937 1.0\n",
      "0.99992868452 1.0\n",
      "0.999999998131 1.0\n",
      "0.999989320269 1.0\n",
      "0.999986431864 1.0\n",
      "0.999956182943 1.0\n",
      "0.989384717505 1.0\n",
      "0.99914238843 1.0\n",
      "0.999785095304 1.0\n",
      "0.953602937688 1.0\n",
      "0.998948391727 1.0\n",
      "0.996552789156 1.0\n",
      "0.99564175253 1.0\n",
      "0.829083394763 1.0\n",
      "0.999999976084 1.0\n",
      "0.999998924254 1.0\n",
      "0.999998704607 1.0\n",
      "0.99999991915 1.0\n",
      "0.999999989876 1.0\n",
      "0.999999884691 1.0\n",
      "0.999999816529 1.0\n",
      "0.000602970621279 0.0\n",
      "0.000117099367439 0.0\n",
      "0.000109851382986 0.0\n",
      "2.7446081328e-05 0.0\n",
      "2.96354333734e-05 0.0\n",
      "3.81405438099e-05 0.0\n",
      "6.36134393172e-05 0.0\n",
      "3.99725782967e-05 0.0\n",
      "5.61591573165e-05 0.0\n",
      "0.000100192065361 0.0\n",
      "0.000100462820085 0.0\n",
      "0.000284876881221 0.0\n",
      "0.00212500329678 0.0\n",
      "0.00426460397538 0.0\n",
      "0.0976112576449 0.0\n",
      "0.0132633624662 0.0\n",
      "0.00200441595542 0.0\n",
      "0.0223215460605 0.0\n",
      "1.08742168577e-10 0.0\n",
      "1.22668579125e-19 0.0\n",
      "8.99247582401e-05 0.0\n",
      "1.52078619445e-05 0.0\n",
      "5.08635700625e-05 0.0\n",
      "6.44130523384e-19 0.0\n",
      "2.32696717889e-19 0.0\n",
      "3.11175318759e-05 0.0\n",
      "0.000176257774221 0.0\n",
      "1.50824345193e-12 0.0\n",
      "0.000135605602046 0.0\n",
      "5.28977314905e-05 0.0\n",
      "0.104834281611 0.0\n",
      "0.0104038638383 0.0\n",
      "1.66252527959e-05 0.0\n",
      "0.0196242265505 0.0\n",
      "4.89933967298e-10 0.0\n",
      "0.158196350418 0.0\n",
      "5.78535972325e-12 0.0\n",
      "4.82753679502e-08 0.0\n",
      "2.44892017039e-10 0.0\n",
      "1.38208299133e-08 0.0\n",
      "0.0063539037829 0.0\n",
      "0.019127450088 0.0\n",
      "6.31583267001e-19 0.0\n",
      "0.0216324604046 0.0\n",
      "0.00480889277292 0.0\n",
      "0.000887472117861 0.0\n",
      "1.22432210884e-14 0.0\n",
      "1.29125584708e-17 0.0\n"
     ]
    }
   ],
   "source": [
    "clf = mlp(seed=0, activation=\"sigmoid\", max_iter=10000, \n",
    "          hidden_layer_size=15, alpha=0.11, momentum=0.9, \n",
    "          tol=1e-10, weight_range=(-1,1), bias=True, classifier=False)\n",
    "\n",
    "%time clf.fit(X_data_sc, y)\n",
    "print \"Training Error: \", 1 - clf.score(X_data, y)\n",
    "\n",
    "pred =  clf.predict(X_data_sc)\n",
    " \n",
    "print \"Validation Score: \", clf.score(X_data_sc, y) \n",
    "print \"Validation R2score: \", r2_score(y, pred)\n",
    "\n",
    "%matplotlib inline\n",
    "plt.plot(clf.error_list)\n",
    "#plt.ylim(0, 15)\n",
    "plt.show()\n",
    "pred = clf.predict(X_data_sc)\n",
    "for i in xrange(pred.shape[0]):\n",
    "    print pred[i,0], y[i]"
   ]
  },
  {
   "cell_type": "markdown",
   "metadata": {
    "collapsed": false
   },
   "source": [
    "### Saving to file"
   ]
  },
  {
   "cell_type": "code",
   "execution_count": 10,
   "metadata": {
    "collapsed": false
   },
   "outputs": [
    {
     "name": "stdout",
     "output_type": "stream",
     "text": [
      "Not saved\n"
     ]
    }
   ],
   "source": [
    "if 0:\n",
    "    f = open(\"pd.mlp\", \"w\")\n",
    "    f.write(pickle.dumps(clf))\n",
    "    f.close()\n",
    "else:\n",
    "    print \"Not saved\""
   ]
  },
  {
   "cell_type": "markdown",
   "metadata": {},
   "source": [
    "## Genetic Algorithm"
   ]
  },
  {
   "cell_type": "code",
   "execution_count": 501,
   "metadata": {
    "collapsed": false,
    "scrolled": false
   },
   "outputs": [],
   "source": [
    "class genetic_improver():\n",
    "\n",
    "    def __init__(self, mlp, example_population, already_scaled=True, population_size=100,\n",
    "                 class_a_to_b_prop=0.5, crossover_rate=0.5, mutate_rate=0.1, \n",
    "                 total_generations=1000, verbose=False, seed=None):\n",
    "        \n",
    "        self.mlp = mlp # the instace of the MLP already traine\n",
    "        self.already_scaled = already_scaled\n",
    "        self.population = None\n",
    "        self.population_size = population_size\n",
    "        self.crossover_rate = crossover_rate\n",
    "        self.total_generations = total_generations\n",
    "        self.verbose = verbose\n",
    "        self.seed = seed\n",
    "        \n",
    "        #general purpose variables\n",
    "        self._rank = None\n",
    "        self.fitness_array = None\n",
    "        self.my_max = np.amax(example_population, axis=0)\n",
    "        self.my_min = np.amin(example_population, axis=0)\n",
    "        self.to_mutate_n = int(population_size * mutate_rate)\n",
    "        self.to_crossover_n = int(crossover_rate * population_size)\n",
    "        self.inv_to_crossover_n = int(self.population_size - self.to_crossover_n)\n",
    "        self.class0_number = int(class_a_to_b_prop * population_size)\n",
    "        \n",
    "        \n",
    "    #creates the population    \n",
    "    def _create_population(self):\n",
    "        np.random.seed(self.seed)\n",
    "        #print my_max, my_min\n",
    "        pop = []\n",
    "        for mn,mx  in zip(self.my_min, self.my_max):\n",
    "            pop.append(np.random.normal(mn, mx, (self.population_size)))\n",
    "        \n",
    "        self.population = np.abs(np.array(pop).T).round(3) #TODO REDO\n",
    "     \n",
    "    \n",
    "    #calculates the fitness and ranks the population, the closer to zero, the better\n",
    "    # returns the rank (numbers from best to worst) and the error list sorted ()\n",
    "    def _get_fitnesses(self, myclass=0):\n",
    "        \n",
    "        if self.already_scaled:\n",
    "            prediction = self.mlp.predict(self.population)[:,0]\n",
    "        else:\n",
    "            scaled_pop = scale(self.population)\n",
    "            prediction = self.mlp.predict(scaled_pop)[:,0]\n",
    "\n",
    "        #as we want to set the proportions, there are two fitnesses in one\n",
    "        # half the pop takes one, the other takes the second\n",
    "        \n",
    "        if myclass==0:\n",
    "            rank_not_sorted = np.abs(0. - prediction)\n",
    "        else:\n",
    "             rank_not_sorted = np.abs(1. - prediction)\n",
    "                \n",
    "        self._rank =  rank_not_sorted.argsort()\n",
    "        self.fitness_array = np.sort(rank_not_sorted)\n",
    "        \n",
    "    # makes the crossover and removes the less fitted (the number of indivuals always stays the same)\n",
    "    def _crossover(self):\n",
    "        \n",
    "        np.random.seed(self.seed)\n",
    "        \n",
    "        #print\"cross\", n_cross, \"inv cross\" ,inv_n_cross \n",
    "        \n",
    "        # aligning the population to the order of the rank\n",
    "        self.population = self.population[self._rank]\n",
    "        #print \"\\n pop\", self.population\n",
    "        \n",
    "        #other from all array, to maintain the diversity\n",
    "        other_elements = np.copy(self._rank)\n",
    "        np.random.shuffle(other_elements)\n",
    "        #print \"\\n shuffle\\n\", other_elements \n",
    "        \n",
    "        #choosing randomly th point to cross, as it is an odd number\n",
    "        cross_point = np.random.randint(0,3)\n",
    "        #print \"\\n cross point\", cross_point\n",
    "        \n",
    "        #crossing the bests with the others and removing excessive data\n",
    "        rand_pop = self.population[other_elements]\n",
    "        data = np.hstack((self.population[:, :cross_point], rand_pop[:, cross_point:]))\n",
    "        #print \"\\n data\\n\", data\n",
    "        \n",
    "        #adding new individuals to end and removing the worst ones\n",
    "        #print\"cross\", n_cross, \"inv cross\" ,inv_n_cross\n",
    "        \n",
    "        old_pop = self.population[:self.inv_to_crossover_n, :]\n",
    "        new_pop = data[:self.to_crossover_n, :]\n",
    "        #print old_pop.shape, new_pop.shape \n",
    "        \n",
    "        self.population = np.vstack((old_pop, new_pop)) \n",
    "        #print \"\\n pop\\n\", self.population\n",
    "    \n",
    "    # mutates the remaining population\n",
    "    def _mutate(self):\n",
    "                \n",
    "        # no reason to run if not to mutate\n",
    "        if self.to_mutate_n >0:\n",
    "            np.random.seed(self.seed)\n",
    "            my_array = np.copy(self._rank)\n",
    "            np.random.shuffle(my_array)\n",
    "            #indivuals to mutate\n",
    "            mutated_individuals = my_array[:self.to_mutate_n]\n",
    "            #mutated cromossomes\n",
    "            mutated_cromossomes = np.random.randint(0,self.population.shape[1], (self.to_mutate_n))\n",
    "\n",
    "            pop = []\n",
    "            for mn,mx  in zip(self.my_min, self.my_max):\n",
    "                pop.append(np.random.normal(mn, mx, (self.to_mutate_n)))\n",
    "        \n",
    "            m_pop = np.abs(np.array(pop).T).round(3)[:, mutated_cromossomes][:, 0] #TODO REDO\n",
    "            #print m_pop\n",
    "        \n",
    "            self.population[mutated_individuals, mutated_cromossomes] = m_pop\n",
    "        \n",
    "    \n",
    "    #receives noinput and returns the generated population\n",
    "    def fit(self):\n",
    "        \n",
    "        # generating class 0\n",
    "        self._create_population()\n",
    "        if self.verbose:\n",
    "            print \"Finding class A\"\n",
    "        for i in xrange(self.total_generations):\n",
    "            self._get_fitnesses(myclass=0)\n",
    "            self._crossover()\n",
    "            self._mutate()\n",
    "            if self.verbose:\n",
    "                print \"---> Best: %s\"%self.fitness_array[self._rank][0]\n",
    "        class0 = np.copy(self.population) \n",
    "        \n",
    "        # generating class 1\n",
    "        if self.verbose:\n",
    "            print \"Finding class B\"\n",
    "        self._create_population()\n",
    "        for i in xrange(self.total_generations):\n",
    "            self._get_fitnesses(myclass=1)\n",
    "            self._crossover()\n",
    "            self._mutate()\n",
    "            if self.verbose:\n",
    "                print \"---> Best: %s\"%self.fitness_array[self._rank][0]\n",
    "    \n",
    "        self.population = np.vstack((class0[:self.class0_number, :], self.population[self.class0_number:, :] ))"
   ]
  },
  {
   "cell_type": "code",
   "execution_count": 506,
   "metadata": {
    "collapsed": false,
    "scrolled": true
   },
   "outputs": [],
   "source": [
    "a = genetic_improver(clf, X_data, population_size=4, seed=0, already_scaled=False,\n",
    "                     verbose=True, total_generations=10, crossover_rate=0.5, mutate_rate=0.1)"
   ]
  },
  {
   "cell_type": "code",
   "execution_count": 507,
   "metadata": {
    "collapsed": false
   },
   "outputs": [
    {
     "name": "stdout",
     "output_type": "stream",
     "text": [
      "\n",
      " pop\n",
      "[[  547.172  1217.89     40.789]\n",
      " [  671.201    22.632   413.295]\n",
      " [  547.172   674.721    99.927]\n",
      " [  671.201    22.632   413.295]]\n",
      "\n",
      " pop\n",
      "[[  547.172  1217.89     40.789]\n",
      " [  671.201    22.632   413.295]\n",
      " [  547.172   674.721    99.927]\n",
      " [  671.201    22.632   413.295]]\n"
     ]
    }
   ],
   "source": [
    "a._create_population()\n",
    "#print a.population\n",
    "\n",
    "\n",
    "a._get_fitnesses(0)\n",
    "#print \"\\n\", a._rank, a.fitness_array\n",
    "\n",
    "\n",
    "a._crossover()\n",
    "print \"\\n pop\\n\", a.population\n",
    "\n",
    "\n",
    "a._mutate()\n",
    "print \"\\n pop\\n\", a.population"
   ]
  },
  {
   "cell_type": "code",
   "execution_count": 508,
   "metadata": {
    "collapsed": false
   },
   "outputs": [
    {
     "name": "stdout",
     "output_type": "stream",
     "text": [
      "Finding class A\n",
      "---> Best: 1.56380724799e-18\n",
      "---> Best: 1.75829094087e-07\n",
      "---> Best: 0.022177245766\n",
      "---> Best: 0.022177245766\n",
      "---> Best: 0.022177245766\n",
      "---> Best: 0.022177245766\n",
      "---> Best: 0.022177245766\n",
      "---> Best: 0.022177245766\n",
      "---> Best: 0.022177245766\n",
      "---> Best: 0.022177245766\n",
      "Finding class B\n",
      "---> Best: 0.999998084922\n",
      "---> Best: 0.999999952856\n",
      "---> Best: 0.99890644621\n",
      "---> Best: 0.817994458649\n",
      "---> Best: 1.96287430754e-12\n",
      "---> Best: 0.817994458649\n",
      "---> Best: 1.96287430754e-12\n",
      "---> Best: 0.817994458649\n",
      "---> Best: 1.96287430754e-12\n",
      "---> Best: 0.817994458649\n",
      "CPU times: user 11.8 ms, sys: 2.27 ms, total: 14.1 ms\n",
      "Wall time: 12 ms\n"
     ]
    }
   ],
   "source": [
    "%time a.fit()"
   ]
  },
  {
   "cell_type": "code",
   "execution_count": 505,
   "metadata": {
    "collapsed": false
   },
   "outputs": [
    {
     "data": {
      "text/plain": [
       "array([[ 0.],\n",
       "       [ 0.],\n",
       "       [ 1.],\n",
       "       [ 1.]])"
      ]
     },
     "execution_count": 505,
     "metadata": {},
     "output_type": "execute_result"
    }
   ],
   "source": [
    "clf.predict(a.population).round(3)"
   ]
  },
  {
   "cell_type": "code",
   "execution_count": 486,
   "metadata": {
    "collapsed": false
   },
   "outputs": [],
   "source": [
    "res = clf.predict(a.population).round(0)\n",
    "b = scale(a.population)"
   ]
  },
  {
   "cell_type": "code",
   "execution_count": 487,
   "metadata": {
    "collapsed": false
   },
   "outputs": [
    {
     "data": {
      "image/png": "[encoded data removed]",
      "text/plain": [
       "<matplotlib.figure.Figure at 0x110b59990>"
      ]
     },
     "metadata": {},
     "output_type": "display_data"
    }
   ],
   "source": [
    "plt.scatter(b[:,0], b[:,1], s=40, c=res, cmap=plt.cm.Spectral)\n",
    "plt.scatter(b[:,0], b[:,2], s=40, c=res, cmap=plt.cm.Spectral)\n",
    "\n",
    "plt.scatter(b[:,1], b[:,2], s=40, c=res, cmap=plt.cm.Spectral)\n",
    "plt.title(\"Not scaled\")\n",
    "plt.show()"
   ]
  },
  {
   "cell_type": "code",
   "execution_count": 45,
   "metadata": {
    "collapsed": false
   },
   "outputs": [
    {
     "name": "stdout",
     "output_type": "stream",
     "text": [
      "1 3\n",
      "2 4\n"
     ]
    }
   ],
   "source": [
    "a = [1, 2]\n",
    "b = [3, 4]\n",
    "for i, j in zip(a, b):\n",
    "    print i, j"
   ]
  },
  {
   "cell_type": "code",
   "execution_count": 72,
   "metadata": {
    "collapsed": true
   },
   "outputs": [],
   "source": [
    "np.random.seed(0)\n",
    "c = np.random.normal(0,1,(10))"
   ]
  },
  {
   "cell_type": "code",
   "execution_count": 182,
   "metadata": {
    "collapsed": false
   },
   "outputs": [
    {
     "name": "stdout",
     "output_type": "stream",
     "text": [
      "CPU times: user 78 µs, sys: 521 µs, total: 599 µs\n",
      "Wall time: 2.54 ms\n"
     ]
    }
   ],
   "source": [
    "%time d = np.where(1, c>=0.5, 0)"
   ]
  },
  {
   "cell_type": "code",
   "execution_count": 82,
   "metadata": {
    "collapsed": false
   },
   "outputs": [],
   "source": [
    "c = np.array([0,1,2,3])"
   ]
  },
  {
   "cell_type": "code",
   "execution_count": 80,
   "metadata": {
    "collapsed": false
   },
   "outputs": [],
   "source": [
    "s= np.argsort(c)"
   ]
  },
  {
   "cell_type": "code",
   "execution_count": 465,
   "metadata": {
    "collapsed": false
   },
   "outputs": [
    {
     "data": {
      "text/plain": [
       "array([ 7,  6,  0,  8,  5,  4,  1, -1,  3,  2])"
      ]
     },
     "execution_count": 465,
     "metadata": {},
     "output_type": "execute_result"
    }
   ],
   "source": [
    "s-1"
   ]
  },
  {
   "cell_type": "code",
   "execution_count": 199,
   "metadata": {
    "collapsed": false
   },
   "outputs": [
    {
     "data": {
      "text/plain": [
       "array([-0.97727788, -0.15135721, -0.10321885,  0.40015721,  0.4105985 ,\n",
       "        0.95008842,  0.97873798,  1.76405235,  1.86755799,  2.2408932 ])"
      ]
     },
     "execution_count": 199,
     "metadata": {},
     "output_type": "execute_result"
    }
   ],
   "source": [
    "c[s]"
   ]
  },
  {
   "cell_type": "code",
   "execution_count": 70,
   "metadata": {
    "collapsed": false
   },
   "outputs": [
    {
     "data": {
      "text/plain": [
       "2"
      ]
     },
     "execution_count": 70,
     "metadata": {},
     "output_type": "execute_result"
    }
   ],
   "source": [
    "np.random.randint(0,4)"
   ]
  },
  {
   "cell_type": "code",
   "execution_count": 325,
   "metadata": {
    "collapsed": false
   },
   "outputs": [],
   "source": [
    "np.random.seed(0)\n",
    "c = np.random.randint(0, 5, size=(4, 3))\n",
    "d = np.random.randint(0, 5, size=(4, 3))"
   ]
  },
  {
   "cell_type": "code",
   "execution_count": 326,
   "metadata": {
    "collapsed": false
   },
   "outputs": [
    {
     "data": {
      "text/plain": [
       "array([[4, 0, 3, 2, 1, 0],\n",
       "       [3, 3, 1, 1, 1, 0],\n",
       "       [3, 2, 4, 1, 4, 3],\n",
       "       [0, 0, 4, 0, 3, 0]])"
      ]
     },
     "execution_count": 326,
     "metadata": {},
     "output_type": "execute_result"
    }
   ],
   "source": [
    "np.hstack((c,d))"
   ]
  },
  {
   "cell_type": "code",
   "execution_count": 327,
   "metadata": {
    "collapsed": false
   },
   "outputs": [],
   "source": [
    "np.random.shuffle(d)"
   ]
  },
  {
   "cell_type": "code",
   "execution_count": 328,
   "metadata": {
    "collapsed": false
   },
   "outputs": [],
   "source": [
    "f = np.array([1, 3, 3, 0])"
   ]
  },
  {
   "cell_type": "code",
   "execution_count": 329,
   "metadata": {
    "collapsed": false
   },
   "outputs": [
    {
     "data": {
      "text/plain": [
       "array([[4, 0, 3],\n",
       "       [3, 3, 1],\n",
       "       [3, 2, 4],\n",
       "       [0, 0, 4]])"
      ]
     },
     "execution_count": 329,
     "metadata": {},
     "output_type": "execute_result"
    }
   ],
   "source": [
    "c"
   ]
  },
  {
   "cell_type": "code",
   "execution_count": 330,
   "metadata": {
    "collapsed": false
   },
   "outputs": [
    {
     "data": {
      "text/plain": [
       "array([[0, 3, 0],\n",
       "       [1, 1, 0],\n",
       "       [2, 1, 0],\n",
       "       [1, 4, 3]])"
      ]
     },
     "execution_count": 330,
     "metadata": {},
     "output_type": "execute_result"
    }
   ],
   "source": [
    "d"
   ]
  },
  {
   "cell_type": "code",
   "execution_count": 331,
   "metadata": {
    "collapsed": false
   },
   "outputs": [],
   "source": [
    "c[:,np.array([0,1])]=0"
   ]
  },
  {
   "cell_type": "code",
   "execution_count": 332,
   "metadata": {
    "collapsed": false
   },
   "outputs": [
    {
     "data": {
      "text/plain": [
       "array([[0, 0, 3],\n",
       "       [0, 0, 1],\n",
       "       [0, 0, 4],\n",
       "       [0, 0, 4]])"
      ]
     },
     "execution_count": 332,
     "metadata": {},
     "output_type": "execute_result"
    }
   ],
   "source": [
    "c"
   ]
  },
  {
   "cell_type": "code",
   "execution_count": null,
   "metadata": {
    "collapsed": true
   },
   "outputs": [],
   "source": []
  }
 ],
 "metadata": {
  "kernelspec": {
   "display_name": "Python 2",
   "language": "python",
   "name": "python2"
  },
  "language_info": {
   "codemirror_mode": {
    "name": "ipython",
    "version": 2
   },
   "file_extension": ".py",
   "mimetype": "text/x-python",
   "name": "python",
   "nbconvert_exporter": "python",
   "pygments_lexer": "ipython2",
   "version": "2.7.12"
  }
 },
 "nbformat": 4,
 "nbformat_minor": 0
}
