{
 "cells": [
  {
   "cell_type": "code",
   "execution_count": 2,
   "metadata": {},
   "outputs": [],
   "source": [
    "import numpy as np\n",
    "#import sys\n",
    "#sys.path.append(\"../\")\n",
    "from sklearn.ensemble import RandomForestClassifier\n",
    "import matplotlib.pyplot as plt\n",
    "import pandas as pd\n",
    "from sklearn.preprocessing import scale\n",
    "from sklearn.metrics import confusion_matrix\n",
    "import itertools\n",
    "import datetime"
   ]
  },
  {
   "cell_type": "markdown",
   "metadata": {},
   "source": [
    "## Loading data\n",
    "### Remember that 1 means PD"
   ]
  },
  {
   "cell_type": "code",
   "execution_count": 3,
   "metadata": {
    "scrolled": false
   },
   "outputs": [
    {
     "data": {
      "text/html": [
       "<div>\n",
       "<style scoped>\n",
       "    .dataframe tbody tr th:only-of-type {\n",
       "        vertical-align: middle;\n",
       "    }\n",
       "\n",
       "    .dataframe tbody tr th {\n",
       "        vertical-align: top;\n",
       "    }\n",
       "\n",
       "    .dataframe thead th {\n",
       "        text-align: right;\n",
       "    }\n",
       "</style>\n",
       "<table border=\"1\" class=\"dataframe\">\n",
       "  <thead>\n",
       "    <tr style=\"text-align: right;\">\n",
       "      <th></th>\n",
       "      <th>name</th>\n",
       "      <th>MDVP:Fo(Hz)</th>\n",
       "      <th>MDVP:Fhi(Hz)</th>\n",
       "      <th>MDVP:Flo(Hz)</th>\n",
       "      <th>MDVP:Jitter(%)</th>\n",
       "      <th>MDVP:Jitter(Abs)</th>\n",
       "      <th>MDVP:RAP</th>\n",
       "      <th>MDVP:PPQ</th>\n",
       "      <th>Jitter:DDP</th>\n",
       "      <th>MDVP:Shimmer</th>\n",
       "      <th>...</th>\n",
       "      <th>Shimmer:DDA</th>\n",
       "      <th>NHR</th>\n",
       "      <th>HNR</th>\n",
       "      <th>status</th>\n",
       "      <th>RPDE</th>\n",
       "      <th>DFA</th>\n",
       "      <th>spread1</th>\n",
       "      <th>spread2</th>\n",
       "      <th>D2</th>\n",
       "      <th>PPE</th>\n",
       "    </tr>\n",
       "  </thead>\n",
       "  <tbody>\n",
       "    <tr>\n",
       "      <th>0</th>\n",
       "      <td>phon_R01_S01_1</td>\n",
       "      <td>119.992</td>\n",
       "      <td>157.302</td>\n",
       "      <td>74.997</td>\n",
       "      <td>0.00784</td>\n",
       "      <td>0.00007</td>\n",
       "      <td>0.00370</td>\n",
       "      <td>0.00554</td>\n",
       "      <td>0.01109</td>\n",
       "      <td>0.04374</td>\n",
       "      <td>...</td>\n",
       "      <td>0.06545</td>\n",
       "      <td>0.02211</td>\n",
       "      <td>21.033</td>\n",
       "      <td>1</td>\n",
       "      <td>0.414783</td>\n",
       "      <td>0.815285</td>\n",
       "      <td>-4.813031</td>\n",
       "      <td>0.266482</td>\n",
       "      <td>2.301442</td>\n",
       "      <td>0.284654</td>\n",
       "    </tr>\n",
       "    <tr>\n",
       "      <th>1</th>\n",
       "      <td>phon_R01_S01_2</td>\n",
       "      <td>122.400</td>\n",
       "      <td>148.650</td>\n",
       "      <td>113.819</td>\n",
       "      <td>0.00968</td>\n",
       "      <td>0.00008</td>\n",
       "      <td>0.00465</td>\n",
       "      <td>0.00696</td>\n",
       "      <td>0.01394</td>\n",
       "      <td>0.06134</td>\n",
       "      <td>...</td>\n",
       "      <td>0.09403</td>\n",
       "      <td>0.01929</td>\n",
       "      <td>19.085</td>\n",
       "      <td>1</td>\n",
       "      <td>0.458359</td>\n",
       "      <td>0.819521</td>\n",
       "      <td>-4.075192</td>\n",
       "      <td>0.335590</td>\n",
       "      <td>2.486855</td>\n",
       "      <td>0.368674</td>\n",
       "    </tr>\n",
       "    <tr>\n",
       "      <th>2</th>\n",
       "      <td>phon_R01_S01_3</td>\n",
       "      <td>116.682</td>\n",
       "      <td>131.111</td>\n",
       "      <td>111.555</td>\n",
       "      <td>0.01050</td>\n",
       "      <td>0.00009</td>\n",
       "      <td>0.00544</td>\n",
       "      <td>0.00781</td>\n",
       "      <td>0.01633</td>\n",
       "      <td>0.05233</td>\n",
       "      <td>...</td>\n",
       "      <td>0.08270</td>\n",
       "      <td>0.01309</td>\n",
       "      <td>20.651</td>\n",
       "      <td>1</td>\n",
       "      <td>0.429895</td>\n",
       "      <td>0.825288</td>\n",
       "      <td>-4.443179</td>\n",
       "      <td>0.311173</td>\n",
       "      <td>2.342259</td>\n",
       "      <td>0.332634</td>\n",
       "    </tr>\n",
       "    <tr>\n",
       "      <th>3</th>\n",
       "      <td>phon_R01_S01_4</td>\n",
       "      <td>116.676</td>\n",
       "      <td>137.871</td>\n",
       "      <td>111.366</td>\n",
       "      <td>0.00997</td>\n",
       "      <td>0.00009</td>\n",
       "      <td>0.00502</td>\n",
       "      <td>0.00698</td>\n",
       "      <td>0.01505</td>\n",
       "      <td>0.05492</td>\n",
       "      <td>...</td>\n",
       "      <td>0.08771</td>\n",
       "      <td>0.01353</td>\n",
       "      <td>20.644</td>\n",
       "      <td>1</td>\n",
       "      <td>0.434969</td>\n",
       "      <td>0.819235</td>\n",
       "      <td>-4.117501</td>\n",
       "      <td>0.334147</td>\n",
       "      <td>2.405554</td>\n",
       "      <td>0.368975</td>\n",
       "    </tr>\n",
       "    <tr>\n",
       "      <th>4</th>\n",
       "      <td>phon_R01_S01_5</td>\n",
       "      <td>116.014</td>\n",
       "      <td>141.781</td>\n",
       "      <td>110.655</td>\n",
       "      <td>0.01284</td>\n",
       "      <td>0.00011</td>\n",
       "      <td>0.00655</td>\n",
       "      <td>0.00908</td>\n",
       "      <td>0.01966</td>\n",
       "      <td>0.06425</td>\n",
       "      <td>...</td>\n",
       "      <td>0.10470</td>\n",
       "      <td>0.01767</td>\n",
       "      <td>19.649</td>\n",
       "      <td>1</td>\n",
       "      <td>0.417356</td>\n",
       "      <td>0.823484</td>\n",
       "      <td>-3.747787</td>\n",
       "      <td>0.234513</td>\n",
       "      <td>2.332180</td>\n",
       "      <td>0.410335</td>\n",
       "    </tr>\n",
       "  </tbody>\n",
       "</table>\n",
       "<p>5 rows × 24 columns</p>\n",
       "</div>"
      ],
      "text/plain": [
       "             name  MDVP:Fo(Hz)  MDVP:Fhi(Hz)  MDVP:Flo(Hz)  MDVP:Jitter(%)  \\\n",
       "0  phon_R01_S01_1      119.992       157.302        74.997         0.00784   \n",
       "1  phon_R01_S01_2      122.400       148.650       113.819         0.00968   \n",
       "2  phon_R01_S01_3      116.682       131.111       111.555         0.01050   \n",
       "3  phon_R01_S01_4      116.676       137.871       111.366         0.00997   \n",
       "4  phon_R01_S01_5      116.014       141.781       110.655         0.01284   \n",
       "\n",
       "   MDVP:Jitter(Abs)  MDVP:RAP  MDVP:PPQ  Jitter:DDP  MDVP:Shimmer    ...     \\\n",
       "0           0.00007   0.00370   0.00554     0.01109       0.04374    ...      \n",
       "1           0.00008   0.00465   0.00696     0.01394       0.06134    ...      \n",
       "2           0.00009   0.00544   0.00781     0.01633       0.05233    ...      \n",
       "3           0.00009   0.00502   0.00698     0.01505       0.05492    ...      \n",
       "4           0.00011   0.00655   0.00908     0.01966       0.06425    ...      \n",
       "\n",
       "   Shimmer:DDA      NHR     HNR  status      RPDE       DFA   spread1  \\\n",
       "0      0.06545  0.02211  21.033       1  0.414783  0.815285 -4.813031   \n",
       "1      0.09403  0.01929  19.085       1  0.458359  0.819521 -4.075192   \n",
       "2      0.08270  0.01309  20.651       1  0.429895  0.825288 -4.443179   \n",
       "3      0.08771  0.01353  20.644       1  0.434969  0.819235 -4.117501   \n",
       "4      0.10470  0.01767  19.649       1  0.417356  0.823484 -3.747787   \n",
       "\n",
       "    spread2        D2       PPE  \n",
       "0  0.266482  2.301442  0.284654  \n",
       "1  0.335590  2.486855  0.368674  \n",
       "2  0.311173  2.342259  0.332634  \n",
       "3  0.334147  2.405554  0.368975  \n",
       "4  0.234513  2.332180  0.410335  \n",
       "\n",
       "[5 rows x 24 columns]"
      ]
     },
     "execution_count": 3,
     "metadata": {},
     "output_type": "execute_result"
    }
   ],
   "source": [
    "data = pd.read_csv(\"../dataset/parkinsons.data\")\n",
    "data.head()"
   ]
  },
  {
   "cell_type": "markdown",
   "metadata": {},
   "source": [
    "## Defining X and y"
   ]
  },
  {
   "cell_type": "code",
   "execution_count": 4,
   "metadata": {},
   "outputs": [
    {
     "name": "stdout",
     "output_type": "stream",
     "text": [
      "0 name\n",
      "1 MDVP:Fo(Hz)\n",
      "2 MDVP:Fhi(Hz)\n",
      "3 MDVP:Flo(Hz)\n",
      "4 MDVP:Jitter(%)\n",
      "5 MDVP:Jitter(Abs)\n",
      "6 MDVP:RAP\n",
      "7 MDVP:PPQ\n",
      "8 Jitter:DDP\n",
      "9 MDVP:Shimmer\n",
      "10 MDVP:Shimmer(dB)\n",
      "11 Shimmer:APQ3\n",
      "12 Shimmer:APQ5\n",
      "13 MDVP:APQ\n",
      "14 Shimmer:DDA\n",
      "15 NHR\n",
      "16 HNR\n",
      "17 status\n",
      "18 RPDE\n",
      "19 DFA\n",
      "20 spread1\n",
      "21 spread2\n",
      "22 D2\n",
      "23 PPE\n"
     ]
    }
   ],
   "source": [
    "c = 0\n",
    "for i in data.columns:\n",
    "    print c, i \n",
    "    c+=1"
   ]
  },
  {
   "cell_type": "code",
   "execution_count": 5,
   "metadata": {},
   "outputs": [
    {
     "name": "stdout",
     "output_type": "stream",
     "text": [
      "total PD 147\n",
      "total no PD 48\n",
      "(147,)\n",
      "(48,)\n",
      "(96,)\n"
     ]
    }
   ],
   "source": [
    "print \"total PD\", data.status.values.tolist().count(1)\n",
    "print \"total no PD\", data.status.values.tolist().count(0)\n",
    "# as the number of PD and no PD is hugely different, resampling to get even amounts\n",
    "pd_index = data.index[data.loc[:, \"status\"]==1]\n",
    "nopd_index = data.index[data.loc[:, \"status\"]==0]\n",
    "print pd_index.shape\n",
    "print nopd_index.shape\n",
    "#making data more even\n",
    "my_index = np.hstack((pd_index[:48], nopd_index))\n",
    "print my_index.shape"
   ]
  },
  {
   "cell_type": "code",
   "execution_count": 6,
   "metadata": {},
   "outputs": [
    {
     "name": "stdout",
     "output_type": "stream",
     "text": [
      "(96, 23) (96,)\n"
     ]
    }
   ],
   "source": [
    "#X = scale(data.values[:, 1:].astype(np.float64)) #data[data.columns[[1, 2, 3]]].values\n",
    "#y = data.status.values.astype(np.float64)#.reshape(-1,1)\n",
    "\n",
    "################################################################################################\n",
    "X = scale(data.values[my_index, 1:].astype(np.float64)) #data[data.columns[[1, 2, 3]]].values\n",
    "y = data.status.values.astype(np.float64)[my_index]#.reshape(-1,1)\n",
    "print X.shape, y.shape"
   ]
  },
  {
   "cell_type": "markdown",
   "metadata": {},
   "source": [
    "## Statistics"
   ]
  },
  {
   "cell_type": "code",
   "execution_count": 7,
   "metadata": {
    "scrolled": true
   },
   "outputs": [
    {
     "name": "stdout",
     "output_type": "stream",
     "text": [
      "Pearson coefficient:\n",
      "16 status 1.0\n",
      "19 spread1 0.6786027185520599\n",
      "22 PPE 0.6712205393983095\n",
      "12 MDVP:APQ 0.592946008573676\n",
      "4 MDVP:Jitter(Abs) 0.5529667925042717\n",
      "20 spread2 0.5488324221114637\n",
      "8 MDVP:Shimmer 0.524457174908963\n",
      "9 MDVP:Shimmer(dB) 0.5193307273538714\n",
      "6 MDVP:PPQ 0.5095459184236945\n",
      "11 Shimmer:APQ5 0.497962414385354\n",
      "3 MDVP:Jitter(%) 0.46963866188195513\n",
      "13 Shimmer:DDA 0.4660487210872023\n",
      "10 Shimmer:APQ3 0.46604050733622504\n",
      "0 MDVP:Fo(Hz) 0.4575383793200252\n",
      "7 Jitter:DDP 0.44672724784285434\n",
      "5 MDVP:RAP 0.4466343099746806\n",
      "2 MDVP:Flo(Hz) 0.43587872380483816\n",
      "18 DFA 0.4242564245997247\n",
      "15 HNR 0.3572187793464325\n",
      "1 MDVP:Fhi(Hz) 0.3213329556017799\n",
      "21 D2 0.3153090109318031\n",
      "17 RPDE 0.29867882871862916\n",
      "14 NHR 0.12187991111085425\n"
     ]
    }
   ],
   "source": [
    "#note to self: making the data more evenly distribuited among pd and no pd\n",
    "# actually changed the look of this coefficient\n",
    "print \"Pearson coefficient:\"\n",
    "bests = np.zeros(X.shape[1])\n",
    "for i in xrange(X.shape[1]):\n",
    "    #val = np.cov(X[:, i], y).astype(np.float64)\n",
    "    val = np.corrcoef(X[:, i], y)\n",
    "    bests[i] = abs(val[0,1])\n",
    "\n",
    "\n",
    "    #norm = (val/np.array([[val[0,0], val[0,0]], [val[1,1], val[1,1]] ]))\n",
    "    #print norm.round(2), \"\\n\"\n",
    "    \n",
    "    #plt.imshow(val)\n",
    "    \n",
    "    #print data.columns[1:][i]\n",
    "    #plt.title(\"%s  %s\"%(data.columns[1:][i], i) )\n",
    "    #plt.show()\n",
    "    #print val #.round(4)\n",
    "    #print\"\\n=====================================\\n\"\n",
    "order = np.argsort(bests)[::-1]\n",
    "\n",
    "for i in order:\n",
    "    print  i, data.columns[1:][i], bests[i]"
   ]
  },
  {
   "cell_type": "code",
   "execution_count": 8,
   "metadata": {},
   "outputs": [
    {
     "name": "stdout",
     "output_type": "stream",
     "text": [
      "(67, 4) (14, 4) (15, 4)\n",
      "(67,) (14,) (15,)\n"
     ]
    },
    {
     "data": {
      "image/png": "[encoded data removed]",
      "text/plain": [
       "<Figure size 432x288 with 1 Axes>"
      ]
     },
     "metadata": {},
     "output_type": "display_data"
    }
   ],
   "source": [
    "#15% for test, 15% for validating and 70% for training \n",
    "##seeding\n",
    "\n",
    "np.random.seed(0)#0\n",
    "X_data = X[:, [22, 19, 0, 1]] #X[:, [22, 21, 20, 19]]  #X[:, [0,1,2]] \n",
    "myray = np.arange(X_data.shape[0])\n",
    "np.random.shuffle(myray)\n",
    "\n",
    "\n",
    "X_train = X_data[myray[:int(0.7*X_data.shape[0])],:]\n",
    "X_test = X_data[myray[int(0.7*X_data.shape[0]):int(0.85*X_data.shape[0])],:]\n",
    "X_validation = X_data[myray[int(0.85*X_data.shape[0]):],:]\n",
    "\n",
    "\n",
    "y_train = y[myray[:int(0.7*X.shape[0])]]\n",
    "y_test = y[myray[int(0.7*X.shape[0]):int(0.85*X.shape[0])]]\n",
    "y_validation = y[myray[int(0.85*X.shape[0]):]]\n",
    "\n",
    "print X_train.shape, X_test.shape, X_validation.shape\n",
    "print y_train.shape, y_test.shape, y_validation.shape\n",
    "\n",
    "plt.scatter(X_data[:,0], X_data[:,1], s=40, c=y, cmap=plt.cm.Spectral)\n",
    "plt.scatter(X_data[:,0], X_data[:,2], s=40, c=y, cmap=plt.cm.Spectral)\n",
    "plt.scatter(X_data[:,0], X_data[:,3], s=40, c=y, cmap=plt.cm.Spectral)\n",
    "#plt.scatter(X_data[:,0], X_data[:,4], s=40, c=y, cmap=plt.cm.Spectral)\n",
    "\n",
    "plt.scatter(X_data[:,1], X_data[:,2], s=40, c=y, cmap=plt.cm.Spectral)\n",
    "plt.scatter(X_data[:,1], X_data[:,3], s=40, c=y, cmap=plt.cm.Spectral)\n",
    "#plt.scatter(X_data[:,1], X_data[:,4], s=40, c=y, cmap=plt.cm.Spectral) \n",
    "\n",
    "#plt.scatter(X_data[:,2], X_data[:,3], s=40, c=y, cmap=plt.cm.Spectral)\n",
    "#plt.scatter(X_data[:,2], X_data[:,4], s=40, c=y, cmap=plt.cm.Spectral)\n",
    "\n",
    "#plt.scatter(X_data[:,4], X_data[:,3], s=40, c=y, cmap=plt.cm.Spectral)\n",
    "\n",
    "plt.show()"
   ]
  },
  {
   "cell_type": "markdown",
   "metadata": {},
   "source": [
    "## Training and validating"
   ]
  },
  {
   "cell_type": "code",
   "execution_count": 9,
   "metadata": {},
   "outputs": [
    {
     "name": "stdout",
     "output_type": "stream",
     "text": [
      "CPU times: user 60.7 ms, sys: 13.1 ms, total: 73.8 ms\n",
      "Wall time: 66.7 ms\n",
      "Training Error:  0.014925373134328401\n",
      "Validation Score:  0.9333333333333333\n"
     ]
    }
   ],
   "source": [
    "clf = RandomForestClassifier(n_estimators=10, criterion=\"gini\", max_depth=None, \n",
    "                             min_samples_split=2, min_samples_leaf=1, \n",
    "                             min_weight_fraction_leaf=0.0, max_features=\"auto\", \n",
    "                             max_leaf_nodes=None, min_impurity_decrease=0.0, \n",
    "                             min_impurity_split=None, bootstrap=True, oob_score=False,\n",
    "                             n_jobs=1, random_state=None, verbose=0, warm_start=False, \n",
    "                             class_weight=None)\n",
    "\n",
    "%time clf.fit(X_train, y_train)\n",
    "print \"Training Error: \", 1 - clf.score(X_train, y_train)\n",
    "\n",
    "pred =  clf.predict(X_validation)\n",
    " \n",
    "print \"Validation Score: \", clf.score(X_validation, y_validation) \n",
    "\n"
   ]
  },
  {
   "cell_type": "markdown",
   "metadata": {
    "collapsed": true
   },
   "source": [
    "## Test"
   ]
  },
  {
   "cell_type": "code",
   "execution_count": 21,
   "metadata": {},
   "outputs": [
    {
     "name": "stdout",
     "output_type": "stream",
     "text": [
      "Test score: 0.9285714285714286\n"
     ]
    }
   ],
   "source": [
    "pred = clf.predict(X_test)\n",
    "print \"Test score:\", clf.score(X_test, y_test)"
   ]
  },
  {
   "cell_type": "markdown",
   "metadata": {},
   "source": [
    "## Confusion matrix"
   ]
  },
  {
   "cell_type": "code",
   "execution_count": 22,
   "metadata": {},
   "outputs": [],
   "source": [
    "def plot_confusion_matrix(y_test, y_pred): \n",
    "    cnf_matrix = confusion_matrix(y_test, y_pred)\n",
    "    classes = np.array([\"No Parkinson\", \"Parkinson\"])\n",
    "    plt.clf()\n",
    "    plt.close(\"all\")\n",
    "    plt.figure(figsize = (18,9))\n",
    "    plt.imshow(cnf_matrix, interpolation='nearest', cmap=plt.cm.Blues)\n",
    "    plt.title('Normalized confusion matrix(Random Forest)')\n",
    "    plt.colorbar()\n",
    "    tick_marks = np.arange(len(classes))\n",
    "    plt.xticks(tick_marks, classes, rotation=45)\n",
    "    plt.yticks(tick_marks, classes)\n",
    "\n",
    "    #normalized\n",
    "    cnf_matrix = cnf_matrix.astype('float') / cnf_matrix.sum(axis=1)[:, np.newaxis]\n",
    "    thresh = cnf_matrix.max() / 2.\n",
    "    for i, j in itertools.product(range(cnf_matrix.shape[0]), range(cnf_matrix.shape[1])):\n",
    "        plt.text(j, i, round(cnf_matrix[i, j], 3),\n",
    "            horizontalalignment=\"center\",\n",
    "            color=\"white\" if cnf_matrix[i, j] > thresh else \"black\")\n",
    "\n",
    "    plt.tight_layout()\n",
    "    plt.ylabel('Expected label')\n",
    "    plt.xlabel('Predicted label')\n",
    "    plt.show()"
   ]
  },
  {
   "cell_type": "code",
   "execution_count": 23,
   "metadata": {},
   "outputs": [
    {
     "data": {
      "image/png": "[encoded data removed]",
      "text/plain": [
       "<Figure size 1296x648 with 2 Axes>"
      ]
     },
     "metadata": {},
     "output_type": "display_data"
    }
   ],
   "source": [
    "%matplotlib inline\n",
    "plt.figure(figsize = (18,9))\n",
    "plot_confusion_matrix(y_test, pred)"
   ]
  },
  {
   "cell_type": "code",
   "execution_count": null,
   "metadata": {},
   "outputs": [],
   "source": []
  }
 ],
 "metadata": {
  "kernelspec": {
   "display_name": "Python 2",
   "language": "python",
   "name": "python2"
  },
  "language_info": {
   "codemirror_mode": {
    "name": "ipython",
    "version": 2
   },
   "file_extension": ".py",
   "mimetype": "text/x-python",
   "name": "python",
   "nbconvert_exporter": "python",
   "pygments_lexer": "ipython2",
   "version": "2.7.15"
  }
 },
 "nbformat": 4,
 "nbformat_minor": 1
}
