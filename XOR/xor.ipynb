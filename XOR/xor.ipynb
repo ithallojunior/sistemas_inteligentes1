{
 "cells": [
  {
   "cell_type": "markdown",
   "metadata": {},
   "source": [
    "# Example of XOR gate using an MLP and MLP class\n",
    "\n",
    "## Author: Ithallo Junior Alves Guimarães\n",
    "\n",
    "### Apr/2018\n",
    "\n",
    "#####  Reference:     <http://iamtrask.github.io/2015/07/12/basic-python-network/>\n",
    " "
   ]
  },
  {
   "cell_type": "code",
   "execution_count": 1,
   "metadata": {
    "collapsed": true
   },
   "outputs": [],
   "source": [
    "import numpy as np\n",
    "import datetime"
   ]
  },
  {
   "cell_type": "code",
   "execution_count": 2,
   "metadata": {
    "collapsed": false
   },
   "outputs": [],
   "source": [
    "class mlp():\n",
    "    def __init__(self, hidden_layer_size=3, activation=\"sigmoid\", alpha=0.1, max_iter=1000, bias=True,  \n",
    "                 tol=1e-10, seed=None, keep_error_list=True, warm_start=False, coefs=None):\n",
    "        self.hidden_layer_size = hidden_layer_size\n",
    "        self.activation = activation\n",
    "        self.alpha = alpha\n",
    "        self.max_iter = max_iter\n",
    "        self.bias = bias\n",
    "        self.tol = tol\n",
    "        self.seed = seed\n",
    "        self.keep_error_list = keep_error_list\n",
    "        self.error_list = []\n",
    "        self.warm_start = warm_start\n",
    "        self.coefs = coefs\n",
    "        self.error = 0\n",
    "        self.X = np.array([[0, 0],[0, 1], [1, 0], [1, 1]])\n",
    "        self.y = np.array([0, 1, 1, 0])\n",
    "\n",
    "    # activaton function\n",
    "    def _function(self, X, deriv=False):\n",
    "        if self.activation==\"tanh\":\n",
    "            if(deriv==True):\n",
    "                return 1. - np.square(X)\n",
    "            else: return np.tanh(X)\n",
    "        elif self.activation==\"sigmoid\":\n",
    "            if(deriv==True):\n",
    "                return X * (1 - X ) \n",
    "            else:  return 1./(1+np.exp( -X ))\n",
    "        \n",
    "    \n",
    "    # corrects the  shape of y\n",
    "    def _y_shape_corrector(self, y):\n",
    "            if type(y) == list:\n",
    "                    self._y_shape_corrector(np.array(y))\n",
    "            else:\n",
    "                if len(y.shape)==1:\n",
    "                    return y.reshape(-1,1)\n",
    "                else:\n",
    "                    return y\n",
    "    \n",
    "    # creates the internal structure of the network\n",
    "    def _network_constructor(self, X_, y_):\n",
    "        \n",
    "        #checks if there is a warm start\n",
    "        if self.warm_start and (self.coefs != None):\n",
    "            self.coefs = coefs\n",
    "        else:\n",
    "            \n",
    "            # inicialize with a deterministic seed is a good practice\n",
    "            np.random.seed(self.seed)\n",
    "            \n",
    "            #bias\n",
    "            if self.bias:\n",
    "                l0 = X_.shape[-1] + 1\n",
    "            else:\n",
    "                l0 = X_.shape[-1]\n",
    "                \n",
    "            #cosntructing layers with weights randomly with mean 0\n",
    "            hidden_layers = 2*np.random.random((l0, self.hidden_layer_size)) - 1.\n",
    "            output_layer = 2*np.random.random((self.hidden_layer_size, y_.shape[-1])) - 1.\n",
    " \n",
    "            self.coefs = [hidden_layers, output_layer]\n",
    "    # run\n",
    "    def fit(self, X, y):\n",
    "        \n",
    "        #cleaning error list \n",
    "        self.error_list = []\n",
    "        \n",
    "        #correcting the shape of y and adding bias to X\n",
    "        y = self._y_shape_corrector(y)\n",
    "        \n",
    "        #calling the constructor, must be after shape correction\n",
    "        self._network_constructor(X, y)\n",
    "        #print self.coefs\n",
    "        \n",
    "        #bias in the network, if needed and creating the layer 0\n",
    "        if self.bias:\n",
    "            layer0 = np.hstack((X, np.ones((X.shape[0], 1))))\n",
    "        else:\n",
    "            layer0 = X\n",
    "       \n",
    "        st = datetime.datetime.now()\n",
    "        print \"Starting MLP at:\", st\n",
    "        for i in xrange(self.max_iter):\n",
    "            \n",
    "            #training\n",
    "            self._train(layer0, y)\n",
    "            \n",
    "            #error list, if any\n",
    "            if self.keep_error_list:\n",
    "                self.error_list.append(self.error)\n",
    "            \n",
    "            # stopping by error\n",
    "            if self.error < self.tol:\n",
    "                print \"stopping by error\"\n",
    "                break\n",
    "            \n",
    "        ed = datetime.datetime.now()\n",
    "        print \"Finishing MLP training at:\", ed\n",
    "        print \"Final error:\", self.error\n",
    "        print \"It took %s\"%(ed - st) \n",
    "        \n",
    "    #trains, already receives the layer0, later maybe will add more training functions\n",
    "    def _train(self, layer0, y):\n",
    "        #backprogation\n",
    "        \n",
    "        #calculating first layer\n",
    "        layer1 = self._function(np.dot(layer0, self.coefs[0]))\n",
    "        #calculating for the hidden\n",
    "        layer2 = self._function(np.dot(layer1, self.coefs[1]))\n",
    "\n",
    "        #error to the target value\n",
    "        l2_error = y - layer2  \n",
    "        \n",
    "        #slope for hidden\n",
    "        l2_delta =  l2_error * self._function(layer2, deriv=True)\n",
    "        \n",
    "        #contribuiton to the second from the first\n",
    "        l1_error = np.dot(l2_delta, self.coefs[1].T)\n",
    "        \n",
    "        # slope of the sigmoid at the values in layer 1\n",
    "        l1_delta =  l1_error * self._function(layer1, deriv=True)\n",
    "    \n",
    "        \n",
    "        ##updating all weights and setting the error as mean squared error\n",
    "        self.coefs[1] = self.coefs[1] + self.alpha * np.dot(layer1.T, l2_delta)\n",
    "        self.coefs[0] = self.coefs[0] + self.alpha * np.dot(layer0.T, l1_delta)\n",
    "        self.error = np.square(l2_error).sum()/l2_error.shape[0]\n",
    "    \n",
    "    #predicts output after fitting a model, supposes the coefs are known    \n",
    "    def predict(self, X):\n",
    "        \n",
    "        #bias in the network, if needed\n",
    "        if self.bias:\n",
    "            layer0 = np.hstack((X, np.ones((X.shape[0], 1))))\n",
    "        else:\n",
    "            layer0 = X\n",
    "        \n",
    "        layer1 = self._function(np.dot(layer0, self.coefs[0]))\n",
    "        \n",
    "        layer2 = self._function(np.dot(layer1, self.coefs[1]))      \n",
    "        \n",
    "        return layer2\n",
    "    \n",
    "    #calculates the score using 1 - mean square error\n",
    "    def score(self, X, y):     \n",
    "        #correcting the shape of y\n",
    "        y = self._y_shape_corrector(y)\n",
    "        y_ = self.predict(X)\n",
    "        mse = np.square(y - y_).sum()/float(y.shape[0])\n",
    "        return float(1. - mse)\n",
    "    \n",
    "    #Showing it working, example_run\n",
    "    def example_run(self, plot=True):\n",
    "        self.fit(self.X, self.y)\n",
    "        print\"Results:\\n\"\n",
    "        print \" X    y    Predicted\"\n",
    "        results = clf.predict(self.X)\n",
    "        for i in xrange(4):\n",
    "            print self.X[i],self.y[i], results[:,0][i]\n",
    "        print\"\\nscore: %.3f%%\"%(self.score(self.X,self.y)*100)\n",
    "        \n",
    "        if plot:\n",
    "            import matplotlib.pyplot as plt\n",
    "            plt.plot(self.error_list)\n",
    "            plt.title(\"Mean Squared Error (MSE) per generation\")\n",
    "            plt.xlabel(\"Generation\")\n",
    "            plt.ylabel(\"MSE\")\n",
    "            plt.show()"
   ]
  },
  {
   "cell_type": "markdown",
   "metadata": {},
   "source": [
    "## Examples\n"
   ]
  },
  {
   "cell_type": "markdown",
   "metadata": {},
   "source": [
    "#### Using sigmoid"
   ]
  },
  {
   "cell_type": "code",
   "execution_count": 3,
   "metadata": {
    "collapsed": false
   },
   "outputs": [
    {
     "name": "stdout",
     "output_type": "stream",
     "text": [
      "Starting MLP at: 2018-04-15 23:03:28.843756\n",
      "Finishing MLP training at: 2018-04-15 23:03:28.871820\n",
      "Final error: 0.000949241885288\n",
      "It took 0:00:00.028064\n",
      "Results:\n",
      "\n",
      " X    y    Predicted\n",
      "[0 0] 0 0.0248102502396\n",
      "[0 1] 1 0.967929429577\n",
      "[1 0] 1 0.973253685396\n",
      "[1 1] 0 0.037640865398\n",
      "\n",
      "score: 99.906%\n"
     ]
    },
    {
     "data": {
      "image/png": "[encoded data removed]",
      "text/plain": [
       "<matplotlib.figure.Figure at 0x10be86c50>"
      ]
     },
     "metadata": {},
     "output_type": "display_data"
    },
    {
     "name": "stdout",
     "output_type": "stream",
     "text": [
      "CPU times: user 462 ms, sys: 57.3 ms, total: 519 ms\n",
      "Wall time: 530 ms\n"
     ]
    }
   ],
   "source": [
    "clf = mlp(seed=1, activation=\"sigmoid\", max_iter=300, hidden_layer_size=4, alpha=5)\n",
    "%time clf.example_run()   "
   ]
  },
  {
   "cell_type": "markdown",
   "metadata": {},
   "source": [
    "#### Using tanh"
   ]
  },
  {
   "cell_type": "code",
   "execution_count": 4,
   "metadata": {
    "collapsed": false
   },
   "outputs": [
    {
     "name": "stdout",
     "output_type": "stream",
     "text": [
      "Starting MLP at: 2018-04-15 23:03:29.382378\n",
      "Finishing MLP training at: 2018-04-15 23:03:29.421537\n",
      "Final error: 0.00171551818774\n",
      "It took 0:00:00.039159\n",
      "Results:\n",
      "\n",
      " X    y    Predicted\n",
      "[0 0] 0 -0.0430672878372\n",
      "[0 1] 1 0.960204330911\n",
      "[1 0] 1 0.965861547775\n",
      "[1 1] 0 -0.0495891910655\n",
      "\n",
      "score: 99.823%\n"
     ]
    },
    {
     "data": {
      "image/png": "[encoded data removed]",
      "text/plain": [
       "<matplotlib.figure.Figure at 0x109759c50>"
      ]
     },
     "metadata": {},
     "output_type": "display_data"
    },
    {
     "name": "stdout",
     "output_type": "stream",
     "text": [
      "CPU times: user 239 ms, sys: 12.7 ms, total: 252 ms\n",
      "Wall time: 265 ms\n"
     ]
    }
   ],
   "source": [
    "clf = mlp(seed=1, activation=\"tanh\", max_iter=300, hidden_layer_size=4, alpha=.4)\n",
    "%time clf.example_run()   "
   ]
  }
 ],
 "metadata": {
  "kernelspec": {
   "display_name": "Python 2",
   "language": "python",
   "name": "python2"
  },
  "language_info": {
   "codemirror_mode": {
    "name": "ipython",
    "version": 2
   },
   "file_extension": ".py",
   "mimetype": "text/x-python",
   "name": "python",
   "nbconvert_exporter": "python",
   "pygments_lexer": "ipython2",
   "version": "2.7.12"
  }
 },
 "nbformat": 4,
 "nbformat_minor": 0
}
